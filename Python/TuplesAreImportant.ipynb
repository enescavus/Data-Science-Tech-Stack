{
 "cells": [
  {
   "cell_type": "markdown",
   "id": "5f145d29",
   "metadata": {},
   "source": [
    "- tuples are not just immutable lists\n",
    "- they are ordered\n",
    "- good for usage of constant datas\n",
    "- good for related datas, like pair type datas"
   ]
  },
  {
   "cell_type": "code",
   "execution_count": 1,
   "id": "453fb88b",
   "metadata": {},
   "outputs": [
    {
     "name": "stdout",
     "output_type": "stream",
     "text": [
      "<class 'tuple'>\n",
      "('Gibson Les Paul', 'Fender Strat', 'Epiphone Acoustic')\n"
     ]
    }
   ],
   "source": [
    "myGuitars = (\"Gibson Les Paul\", \"Fender Strat\", \"Epiphone Acoustic\")\n",
    "print(type(myGuitars))\n",
    "print(myGuitars)"
   ]
  },
  {
   "cell_type": "code",
   "execution_count": 2,
   "id": "a110b28f",
   "metadata": {},
   "outputs": [
    {
     "name": "stdout",
     "output_type": "stream",
     "text": [
      "<class 'tuple'>\n",
      "('only item in that tuple is this with comma',)\n"
     ]
    }
   ],
   "source": [
    "# one item tuple\n",
    "oneItemTuple = ('only item in that tuple is this with comma',)\n",
    "print(type(oneItemTuple))\n",
    "print(oneItemTuple)"
   ]
  },
  {
   "cell_type": "code",
   "execution_count": 3,
   "id": "851592fb",
   "metadata": {},
   "outputs": [
    {
     "name": "stdout",
     "output_type": "stream",
     "text": [
      "('h', 'e', 'l', 'l', 'o', ' ', 't', 'h', 'e', 'r', 'e', '!')\n"
     ]
    }
   ],
   "source": [
    "# create a tuple with tuple funtion but its a bit different\n",
    "tup = tuple(\"hello there!\")\n",
    "print(tup)"
   ]
  },
  {
   "cell_type": "code",
   "execution_count": 4,
   "id": "6f01e468",
   "metadata": {},
   "outputs": [
    {
     "name": "stdout",
     "output_type": "stream",
     "text": [
      "e\n",
      "('e', 'l', 'l', 'o', ' ', 't', 'h')\n",
      "('Gibson Les Paul', 'Fender Strat')\n"
     ]
    }
   ],
   "source": [
    "# indexing and slicing in tuples are same with the lists\n",
    "print(tup[1])\n",
    "print(tup[1:-4])\n",
    "print(myGuitars[:2])"
   ]
  },
  {
   "cell_type": "code",
   "execution_count": 5,
   "id": "a4d81b7d",
   "metadata": {},
   "outputs": [],
   "source": [
    "# remember! tuples are not immutable, this is the main difference \n",
    "# between lists and tuples in Python"
   ]
  },
  {
   "cell_type": "code",
   "execution_count": 6,
   "id": "36feb914",
   "metadata": {},
   "outputs": [
    {
     "name": "stdout",
     "output_type": "stream",
     "text": [
      "Yes this is what you're looking for! Fender Strat\n"
     ]
    }
   ],
   "source": [
    "# loops with tuples are the same\n",
    "for item in myGuitars:\n",
    "    if item == \"Fender Strat\":\n",
    "        print(\"Yes this is what you're looking for! {}\".format(item))"
   ]
  },
  {
   "cell_type": "code",
   "execution_count": 7,
   "id": "75142593",
   "metadata": {},
   "outputs": [
    {
     "name": "stdout",
     "output_type": "stream",
     "text": [
      "('h', 'e', 'l', 'l', 'o', ' ', 't', 'h', 'e', 'r', 'e', '!')\n",
      "12\n",
      "3\n"
     ]
    }
   ],
   "source": [
    "# length and count funtions\n",
    "print(tup)\n",
    "print(len(tup)) # length \n",
    "print(tup.count('e')) # how '3' we got"
   ]
  },
  {
   "cell_type": "code",
   "execution_count": 8,
   "id": "94e4aaeb",
   "metadata": {},
   "outputs": [
    {
     "name": "stdout",
     "output_type": "stream",
     "text": [
      "<class 'tuple'>\n",
      "(1, 2, 3, 4, 5, 6, 7, 8, 9, 10)\n"
     ]
    }
   ],
   "source": [
    "# concatenate two or more tuples\n",
    "oneToTen = (1,2,3) + (4,5,6) + (7,8,9) + (10,) \n",
    "print(type(oneToTen))\n",
    "print(oneToTen)"
   ]
  },
  {
   "cell_type": "code",
   "execution_count": 9,
   "id": "081807d4",
   "metadata": {},
   "outputs": [
    {
     "name": "stdout",
     "output_type": "stream",
     "text": [
      "(1, 2, 3, 4)\n",
      "(8, 9)\n",
      "(1, 2, 3, 4, 5, 6, 7, 8, 9, 10)\n",
      "(5, 6, 7, 8, 9, 10)\n",
      "(4, 5, 6, 7)\n"
     ]
    }
   ],
   "source": [
    "# slice throughout the tuple numbers\n",
    "print(oneToTen[:4])\n",
    "print(oneToTen[-3:-1])\n",
    "print(oneToTen[:])\n",
    "print(oneToTen[4:])\n",
    "print(oneToTen[3:-3])"
   ]
  },
  {
   "cell_type": "code",
   "execution_count": 10,
   "id": "d493b6b8",
   "metadata": {},
   "outputs": [
    {
     "name": "stdout",
     "output_type": "stream",
     "text": [
      "<class 'list'>\n",
      "['Gibson Les Paul', 'Fender Strat', 'Epiphone Acoustic']\n"
     ]
    }
   ],
   "source": [
    "# convert a tuple to a list\n",
    "myGuitarsButList = list(myGuitars) # reverse is available\n",
    "print(type(myGuitarsButList))\n",
    "print(myGuitarsButList)"
   ]
  },
  {
   "cell_type": "code",
   "execution_count": 11,
   "id": "ca1ca4e4",
   "metadata": {},
   "outputs": [
    {
     "name": "stdout",
     "output_type": "stream",
     "text": [
      "((5, 4), ((3, 2, 1, 0), (-1, -2, -3), -4))\n",
      "((3, 2, 1, 0), (-1, -2, -3), -4)\n",
      "(-1, -2, -3)\n",
      "-3\n"
     ]
    }
   ],
   "source": [
    "# tuple in a tuple in a tuple - nested tuples\n",
    "# architect  ((),((),(((),())),()))\n",
    "nested_tuple =  ((5,4),((3,2,1,0),((-1,-2,-3)),(-4)))\n",
    "print(nested_tuple[:])\n",
    "print(nested_tuple[:][1])\n",
    "print(nested_tuple[:][1][1])\n",
    "print(nested_tuple[:][1][1][2])\n",
    "\n",
    "# find the -3 "
   ]
  },
  {
   "cell_type": "code",
   "execution_count": 12,
   "id": "8a1ffd8f",
   "metadata": {},
   "outputs": [
    {
     "data": {
      "text/plain": [
       "'\\nMostly the main differances are Mutability and Memory allocation\\n'"
      ]
     },
     "execution_count": 12,
     "metadata": {},
     "output_type": "execute_result"
    }
   ],
   "source": [
    "# list and tuple comparison - ispired from https://www.geeksforgeeks.org/python-difference-between-list-and-tuple/\n",
    "'''\n",
    "1\tLists are mutable\tTuples are immutable\n",
    "2\tImplication of iterations is Time-consuming\tThe implication of iterations is comparatively Faster\n",
    "3\tThe list is better for performing operations, such as insertion and deletion.\tTuple data type is appropriate for accessing the elements\n",
    "4\tLists consume more memory\tTuple consume less memory as compared to the list\n",
    "5\tLists have several built-in methods\tTuple does not have many built-in methods.\n",
    "6\tThe unexpected changes and errors are more likely to occur\tIn tuple, it is hard to take place.\n",
    "'''\n",
    "\n",
    "\n",
    "'''\n",
    "Mostly the main differances are Mutability and Memory allocation\n",
    "'''\n"
   ]
  },
  {
   "cell_type": "code",
   "execution_count": 13,
   "id": "d7ec7828",
   "metadata": {},
   "outputs": [
    {
     "name": "stdout",
     "output_type": "stream",
     "text": [
      "96 bytes\n",
      "80 bytes\n",
      "0.1003174380000047\n",
      "0.010189914999997995\n"
     ]
    }
   ],
   "source": [
    "# source code from https://www.youtube.com/watch?v=HGOBQPFzWKo\n",
    "\n",
    "# compare the size\n",
    "import sys\n",
    "my_list = [0, 1, 2, \"hello\", True]\n",
    "my_tuple = (0, 1, 2, \"hello\", True)\n",
    "print(sys.getsizeof(my_list), \"bytes\")\n",
    "print(sys.getsizeof(my_tuple), \"bytes\")\n",
    "\n",
    "# compare the execution time of a list vs. tuple creation statement\n",
    "import timeit\n",
    "print(timeit.timeit(stmt=\"[0, 1, 2, 3, 4, 5]\", number=1000000))\n",
    "print(timeit.timeit(stmt=\"(0, 1, 2, 3, 4, 5)\", number=1000000))"
   ]
  },
  {
   "cell_type": "code",
   "execution_count": 15,
   "id": "2f2c1066",
   "metadata": {},
   "outputs": [
    {
     "name": "stdout",
     "output_type": "stream",
     "text": [
      "<class 'tuple'>\n",
      "(1, 'Enes', 'Computer Scientist')\n",
      "1\n",
      "Enes\n",
      "Computer Scientist\n"
     ]
    }
   ],
   "source": [
    "# Unpacking Tuples\n",
    "mixed_values_tuple = (1, 'Enes', 'Computer Scientist')\n",
    "print(type(mixed_values_tuple))\n",
    "print(mixed_values_tuple)\n",
    "student_id, name, major = mixed_values_tuple # mustMatch\n",
    "print(student_id)\n",
    "print(name)\n",
    "print(major)"
   ]
  },
  {
   "cell_type": "code",
   "execution_count": 16,
   "id": "3e2b6781",
   "metadata": {},
   "outputs": [
    {
     "name": "stdout",
     "output_type": "stream",
     "text": [
      "1\n",
      "['Enes', 'Computer Scientist']\n"
     ]
    }
   ],
   "source": [
    "# diffent aproach to unpacking with asterix  * \n",
    "student_id, *info = mixed_values_tuple\n",
    "print(student_id)\n",
    "print(info)"
   ]
  },
  {
   "cell_type": "code",
   "execution_count": 17,
   "id": "c206415c",
   "metadata": {},
   "outputs": [],
   "source": [
    "# Enes Çavus - Some random Python Data Structures Practices"
   ]
  },
  {
   "cell_type": "code",
   "execution_count": null,
   "id": "ecbcc7e9",
   "metadata": {},
   "outputs": [],
   "source": []
  }
 ],
 "metadata": {
  "kernelspec": {
   "display_name": "Python 3 (ipykernel)",
   "language": "python",
   "name": "python3"
  },
  "language_info": {
   "codemirror_mode": {
    "name": "ipython",
    "version": 3
   },
   "file_extension": ".py",
   "mimetype": "text/x-python",
   "name": "python",
   "nbconvert_exporter": "python",
   "pygments_lexer": "ipython3",
   "version": "3.8.1"
  }
 },
 "nbformat": 4,
 "nbformat_minor": 5
}
