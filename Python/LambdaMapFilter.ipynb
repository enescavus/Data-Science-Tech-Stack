{
 "cells": [
  {
   "cell_type": "code",
   "execution_count": 1,
   "id": "639e4640",
   "metadata": {},
   "outputs": [],
   "source": [
    "# lambda is an easy way to create one line functions with lambda keyword\n",
    "# it is more useful when its combined with mapping and filtering functions.\n",
    "# It is happening in one line in general"
   ]
  },
  {
   "cell_type": "code",
   "execution_count": 2,
   "id": "19b54f3c",
   "metadata": {},
   "outputs": [
    {
     "name": "stdout",
     "output_type": "stream",
     "text": [
      "30\n",
      "30\n"
     ]
    }
   ],
   "source": [
    "# add function without lambda\n",
    "def add(x,y):\n",
    "    return x+y\n",
    "x=10\n",
    "y=20\n",
    "print(add(x,y))\n",
    "\n",
    "# add function with lambda \n",
    "add_l = lambda x,y : x+y\n",
    "print(add_l(x,y))\n",
    "# it can transform to any other math operations \n",
    "# lambda x,y : x-y\n",
    "# lambda x,y : x/y\n",
    "# lambda x,y : x*y"
   ]
  },
  {
   "cell_type": "code",
   "execution_count": 3,
   "id": "115c4850",
   "metadata": {},
   "outputs": [
    {
     "name": "stdout",
     "output_type": "stream",
     "text": [
      "[1, 4, 9, 16]\n"
     ]
    }
   ],
   "source": [
    "# square with lambda and map, one line\n",
    "nums = [1,2,3,4]\n",
    "\n",
    "output = list(map(lambda x: x**2, nums)) # note x is always updating\n",
    "print(output)"
   ]
  },
  {
   "cell_type": "code",
   "execution_count": 4,
   "id": "d2a73592",
   "metadata": {},
   "outputs": [
    {
     "name": "stdout",
     "output_type": "stream",
     "text": [
      "[1, 4, 9, 16]\n"
     ]
    }
   ],
   "source": [
    "# or with for loops\n",
    "print([i**2 for i in nums ])"
   ]
  },
  {
   "cell_type": "code",
   "execution_count": 5,
   "id": "f518d164",
   "metadata": {},
   "outputs": [
    {
     "name": "stdout",
     "output_type": "stream",
     "text": [
      "[6, 18, 24]\n"
     ]
    }
   ],
   "source": [
    "# both divide by 2 and 3 at the same time\n",
    "nums_2 = [2,3,6,9,18,24,27]\n",
    "\n",
    "print(list(filter(lambda x : ((x%2)==0 and (x%3)==0),nums_2)))\n",
    "# filter nums_2 elements by the lambda function\n"
   ]
  },
  {
   "cell_type": "code",
   "execution_count": 6,
   "id": "62d877ca",
   "metadata": {},
   "outputs": [
    {
     "name": "stdout",
     "output_type": "stream",
     "text": [
      "[[2, 3], [1, 2], [0, 1]]\n"
     ]
    }
   ],
   "source": [
    "# sort with specific function\n",
    "\n",
    "numbers = [[1,2],[2,3],[0,1]]\n",
    "print(sorted(numbers,key=lambda x:x[0]*x[1], reverse=True)) # x is the list item which is also a list\n",
    "# sort by their multiplications"
   ]
  },
  {
   "cell_type": "code",
   "execution_count": null,
   "id": "e2959e21",
   "metadata": {},
   "outputs": [],
   "source": []
  }
 ],
 "metadata": {
  "kernelspec": {
   "display_name": "Python 3",
   "language": "python",
   "name": "python3"
  },
  "language_info": {
   "codemirror_mode": {
    "name": "ipython",
    "version": 3
   },
   "file_extension": ".py",
   "mimetype": "text/x-python",
   "name": "python",
   "nbconvert_exporter": "python",
   "pygments_lexer": "ipython3",
   "version": "3.8.10"
  }
 },
 "nbformat": 4,
 "nbformat_minor": 5
}
