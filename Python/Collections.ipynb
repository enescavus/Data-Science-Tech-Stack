{
 "cells": [
  {
   "cell_type": "code",
   "execution_count": 1,
   "id": "adfb4ea0",
   "metadata": {},
   "outputs": [],
   "source": [
    "# There are several popular collectoins"
   ]
  },
  {
   "cell_type": "code",
   "execution_count": 7,
   "id": "5bdd21e9",
   "metadata": {},
   "outputs": [
    {
     "name": "stdout",
     "output_type": "stream",
     "text": [
      "Counter({'a': 5, 's': 4, 'd': 4, 'b': 3})\n"
     ]
    }
   ],
   "source": [
    "from collections import Counter # returns a dict of counted values\n",
    "str1 = \"abasdbsdasdbasda\"\n",
    "coutnIt = Counter(str1)\n",
    "print(coutnIt)"
   ]
  },
  {
   "cell_type": "code",
   "execution_count": 11,
   "id": "1473c8ba",
   "metadata": {},
   "outputs": [],
   "source": [
    "data = [1,2,3,3,34] # 1 dimensinal list\n",
    "countedData = Counter(data)"
   ]
  },
  {
   "cell_type": "code",
   "execution_count": 12,
   "id": "3201aab1",
   "metadata": {},
   "outputs": [
    {
     "name": "stdout",
     "output_type": "stream",
     "text": [
      "1 1\n",
      "2 1\n",
      "3 2\n",
      "34 1\n",
      "[(3, 2), (1, 1), (2, 1), (34, 1)]\n"
     ]
    }
   ],
   "source": [
    "for key,value in Counter(data).items():\n",
    "    print(key, value)\n",
    "print(countedData.most_common())"
   ]
  },
  {
   "cell_type": "code",
   "execution_count": 14,
   "id": "df9b9350",
   "metadata": {},
   "outputs": [
    {
     "data": {
      "text/plain": [
       "['a',\n",
       " 'a',\n",
       " 'a',\n",
       " 'a',\n",
       " 'a',\n",
       " 'b',\n",
       " 'b',\n",
       " 'b',\n",
       " 's',\n",
       " 's',\n",
       " 's',\n",
       " 's',\n",
       " 'd',\n",
       " 'd',\n",
       " 'd',\n",
       " 'd']"
      ]
     },
     "execution_count": 14,
     "metadata": {},
     "output_type": "execute_result"
    }
   ],
   "source": [
    "list(coutnIt.elements())"
   ]
  },
  {
   "cell_type": "code",
   "execution_count": 16,
   "id": "634fd45b",
   "metadata": {},
   "outputs": [
    {
     "name": "stdout",
     "output_type": "stream",
     "text": [
      "Position(x=12, y=4)\n",
      "<class '__main__.Position'>\n",
      "12\n"
     ]
    }
   ],
   "source": [
    "# namedTuple\n",
    "from collections import namedtuple\n",
    "coordinate = namedtuple(\"Position\", \"x,y\")\n",
    "point = coordinate(12,4)\n",
    "print(point)\n",
    "print(type(point))\n",
    "print(point.x)"
   ]
  },
  {
   "cell_type": "code",
   "execution_count": 22,
   "id": "e2f0f468",
   "metadata": {},
   "outputs": [
    {
     "name": "stdout",
     "output_type": "stream",
     "text": [
      "deque([10, 11])\n",
      "deque([33, 10, 11])\n",
      "deque([10, 11])\n",
      "deque([6, 4, 5, 10, 11])\n",
      "deque([4, 5, 10, 11, 6])\n",
      "deque([10, 11, 6, 4, 5])\n"
     ]
    }
   ],
   "source": [
    "# deque\n",
    "# double enden queue\n",
    "from collections import deque\n",
    "liste = deque()\n",
    "\n",
    "liste.append(10)\n",
    "liste.append(11)\n",
    "print(liste)\n",
    "\n",
    "liste.appendleft(33)\n",
    "print(liste)\n",
    "\n",
    "liste.popleft()\n",
    "print(liste)\n",
    "\n",
    "liste.extendleft([5,4,6]) # only extend is available\n",
    "print(liste)\n",
    "\n",
    "liste.rotate(-1)\n",
    "print(liste)\n",
    "\n",
    "liste.rotate(3)\n",
    "print(liste)"
   ]
  },
  {
   "cell_type": "code",
   "execution_count": null,
   "id": "ef1e224c",
   "metadata": {},
   "outputs": [],
   "source": []
  }
 ],
 "metadata": {
  "kernelspec": {
   "display_name": "Python 3",
   "language": "python",
   "name": "python3"
  },
  "language_info": {
   "codemirror_mode": {
    "name": "ipython",
    "version": 3
   },
   "file_extension": ".py",
   "mimetype": "text/x-python",
   "name": "python",
   "nbconvert_exporter": "python",
   "pygments_lexer": "ipython3",
   "version": "3.8.10"
  }
 },
 "nbformat": 4,
 "nbformat_minor": 5
}
