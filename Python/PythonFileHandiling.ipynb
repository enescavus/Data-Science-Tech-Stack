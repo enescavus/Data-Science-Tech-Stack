{
 "cells": [
  {
   "cell_type": "markdown",
   "id": "42c5e053",
   "metadata": {},
   "source": [
    "- using __open__ function\n",
    "    - parameters are __filename__ and __reading mode__"
   ]
  },
  {
   "cell_type": "markdown",
   "id": "0187e35c",
   "metadata": {},
   "source": [
    "Modes are \n",
    "\n",
    "- __r__ -> dosyaya read only modunda erisim, dosya yoksa hata \n",
    "- __w__ -> dosyaya yazma modunda erisim, (üzerine yazma !!! )dosya yoksa yeni dosya olusturur\n",
    "- __r+__ -> hem okuma hem yazma\n",
    "- __x__ -> sadece dosya olusturur, dosya zaten varsa error \n",
    "- __a__ -> ekleme icin dosyayı acar, dosya yoksa yeni dosya olusturulur\n",
    "- __t__ -> standart text girisi \n",
    "- __b__ -> ikili binary modda veri/dosya icerigi ile islemler, yazı dısındaki formatlar\n",
    "\n",
    "syntax ---- file = open(filename, mode)"
   ]
  },
  {
   "cell_type": "code",
   "execution_count": 1,
   "id": "f2bbe984",
   "metadata": {},
   "outputs": [],
   "source": [
    "# creating a txt file \n",
    "with open(\"filehandling.txt\", 'w') as file:\n",
    "    file.write(\"This is a single line test txt file for python file handling operations.\")"
   ]
  },
  {
   "cell_type": "code",
   "execution_count": 2,
   "id": "4678608c",
   "metadata": {},
   "outputs": [
    {
     "data": {
      "text/plain": [
       "'This is a single line test txt file for python file handling operations.'"
      ]
     },
     "execution_count": 2,
     "metadata": {},
     "output_type": "execute_result"
    }
   ],
   "source": [
    "demo_file = open(\"filehandling.txt\")\n",
    "demo_file.read()"
   ]
  },
  {
   "cell_type": "code",
   "execution_count": 3,
   "id": "1734272f",
   "metadata": {},
   "outputs": [
    {
     "name": "stdout",
     "output_type": "stream",
     "text": [
      "This is a single line test txt file for python file handling operations.\n"
     ]
    }
   ],
   "source": [
    "# daha yaygın kullanımı \n",
    "with open(\"filehandling.txt\") as file:\n",
    "    line = file.read()\n",
    "    \n",
    "print(line)"
   ]
  },
  {
   "cell_type": "code",
   "execution_count": 4,
   "id": "f99181a4",
   "metadata": {},
   "outputs": [
    {
     "name": "stdout",
     "output_type": "stream",
     "text": [
      "Let's make  a multiline file. \n",
      "Yes this is a multiline txt.\n"
     ]
    }
   ],
   "source": [
    "# Let's make it multiline \n",
    "with open(\"filehandling.txt\", 'w') as file: # it's overwriting !!!\n",
    "    file.writelines([\"Let's make  a multiline file.\", \" \\nYes this is a multiline txt.\"])\n",
    "    \n",
    "with open(\"filehandling.txt\") as file:\n",
    "    line = file.read()\n",
    "    \n",
    "print(line)"
   ]
  },
  {
   "cell_type": "code",
   "execution_count": 5,
   "id": "e7a5447d",
   "metadata": {},
   "outputs": [],
   "source": [
    "# this for each character\n",
    "#for i in line:\n",
    "#    print(i)"
   ]
  },
  {
   "cell_type": "code",
   "execution_count": 6,
   "id": "7c6d11e3",
   "metadata": {},
   "outputs": [
    {
     "name": "stdout",
     "output_type": "stream",
     "text": [
      "Let's make  a multiline file. \n",
      "\n"
     ]
    }
   ],
   "source": [
    "with open(\"filehandling.txt\", 'r') as file:\n",
    "    line = file.readline() # only one line\n",
    "print(line)\n",
    "#for i in line:\n",
    "#    print(i)"
   ]
  },
  {
   "cell_type": "code",
   "execution_count": 7,
   "id": "75e5331c",
   "metadata": {},
   "outputs": [
    {
     "name": "stdout",
     "output_type": "stream",
     "text": [
      "[\"Let's make  a multiline file. \\n\", 'Yes this is a multiline txt.']\n"
     ]
    }
   ],
   "source": [
    "with open(\"filehandling.txt\", 'r') as file:\n",
    "    line = file.readlines() # multilines\n",
    "print(line)"
   ]
  },
  {
   "cell_type": "code",
   "execution_count": 8,
   "id": "c4dd2784",
   "metadata": {},
   "outputs": [
    {
     "name": "stdout",
     "output_type": "stream",
     "text": [
      "Let's make  a multiline file. \n",
      "Yes this is a multiline txt.\n",
      "This is a line added later. Append. \n"
     ]
    }
   ],
   "source": [
    "# want to append with mode \"a\" -- not overwriting\n",
    "with open(\"filehandling.txt\", 'a') as file: # it's not overwriting !!!\n",
    "    file.writelines(\"\\nThis is a line added later. Append. \")\n",
    "    \n",
    "with open(\"filehandling.txt\") as file:\n",
    "    line = file.read()\n",
    "    \n",
    "print(line)"
   ]
  },
  {
   "cell_type": "code",
   "execution_count": 9,
   "id": "997990f8",
   "metadata": {},
   "outputs": [
    {
     "name": "stdout",
     "output_type": "stream",
     "text": [
      "Let's make  a multiline file. \n",
      "\n",
      "Yes this is a multiline txt.\n",
      "\n",
      "This is a line added later. Append. \n"
     ]
    }
   ],
   "source": [
    "with open(\"filehandling.txt\", 'r') as file:\n",
    "    line = file.readlines() # also iterable\n",
    "for i in line:\n",
    "    print(i)"
   ]
  },
  {
   "cell_type": "code",
   "execution_count": 10,
   "id": "21e5cd2f",
   "metadata": {},
   "outputs": [
    {
     "name": "stdout",
     "output_type": "stream",
     "text": [
      "[\"Let's\", 'make', 'a', 'multiline', 'file.', 'Yes', 'this', 'is', 'a', 'multiline', 'txt.', 'This', 'is', 'a', 'line', 'added', 'later.', 'Append.']\n"
     ]
    }
   ],
   "source": [
    "# getting each word seperately\n",
    "words = []\n",
    "with open(\"filehandling.txt\", 'r') as file:\n",
    "    lines = file.readlines()\n",
    "    for line in lines:\n",
    "        for word in line.split():\n",
    "            words.append(word)\n",
    "print(words)"
   ]
  },
  {
   "cell_type": "code",
   "execution_count": 11,
   "id": "b681107c",
   "metadata": {},
   "outputs": [],
   "source": [
    "# Enes Çavuş - Python Practices - File Operations / File Handlings"
   ]
  },
  {
   "cell_type": "code",
   "execution_count": null,
   "id": "e0183e8b",
   "metadata": {},
   "outputs": [],
   "source": []
  }
 ],
 "metadata": {
  "kernelspec": {
   "display_name": "Python 3 (ipykernel)",
   "language": "python",
   "name": "python3"
  },
  "language_info": {
   "codemirror_mode": {
    "name": "ipython",
    "version": 3
   },
   "file_extension": ".py",
   "mimetype": "text/x-python",
   "name": "python",
   "nbconvert_exporter": "python",
   "pygments_lexer": "ipython3",
   "version": "3.8.1"
  }
 },
 "nbformat": 4,
 "nbformat_minor": 5
}
