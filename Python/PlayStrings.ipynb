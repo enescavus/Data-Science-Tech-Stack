{
 "cells": [
  {
   "cell_type": "code",
   "execution_count": 1,
   "id": "b3b27198",
   "metadata": {},
   "outputs": [
    {
     "data": {
      "text/plain": [
       "'Oh, My, String!'"
      ]
     },
     "execution_count": 1,
     "metadata": {},
     "output_type": "execute_result"
    }
   ],
   "source": [
    "myString = \"Oh, My, String!\"\n",
    "myString"
   ]
  },
  {
   "cell_type": "code",
   "execution_count": 2,
   "id": "1c82d330",
   "metadata": {},
   "outputs": [
    {
     "name": "stdout",
     "output_type": "stream",
     "text": [
      "\n",
      "This is \n",
      "a \n",
      "multiline \n",
      "string!\n",
      "\n"
     ]
    }
   ],
   "source": [
    "multiLine = \"\"\"\n",
    "This is \n",
    "a \n",
    "multiline \n",
    "string!\n",
    "\"\"\"\n",
    "print(multiLine)"
   ]
  },
  {
   "cell_type": "code",
   "execution_count": 3,
   "id": "b75fea38",
   "metadata": {},
   "outputs": [
    {
     "name": "stdout",
     "output_type": "stream",
     "text": [
      "Reversed\n"
     ]
    }
   ],
   "source": [
    "rev = \"desreveR\"\n",
    "print(rev[::-1])"
   ]
  },
  {
   "cell_type": "code",
   "execution_count": 4,
   "id": "25452aed",
   "metadata": {},
   "outputs": [
    {
     "name": "stdout",
     "output_type": "stream",
     "text": [
      "Da\n",
      "ata S\n",
      "Data Science\n",
      "Dt cec\n"
     ]
    }
   ],
   "source": [
    "# more slicing\n",
    "sentence = \"Data Science\"\n",
    "print(sentence[:2])\n",
    "print(sentence[1:6])\n",
    "print(sentence[::])\n",
    "print(sentence[::2])"
   ]
  },
  {
   "cell_type": "code",
   "execution_count": 5,
   "id": "657529eb",
   "metadata": {},
   "outputs": [
    {
     "name": "stdout",
     "output_type": "stream",
     "text": [
      "Data Science\n"
     ]
    }
   ],
   "source": [
    "# concatenate strings\n",
    "str1 = \"Data\"\n",
    "str2 = \"Science\"\n",
    "str3 = str1 + ' ' + str2\n",
    "print(str3)\n"
   ]
  },
  {
   "cell_type": "code",
   "execution_count": 6,
   "id": "386be31f",
   "metadata": {},
   "outputs": [
    {
     "name": "stdout",
     "output_type": "stream",
     "text": [
      "Data Science\n"
     ]
    }
   ],
   "source": [
    "spaces = \"          Data Science        \"\n",
    "print(spaces.strip()) # clears the useless spaces at the beginnind and end!"
   ]
  },
  {
   "cell_type": "code",
   "execution_count": 7,
   "id": "9d5e30b8",
   "metadata": {},
   "outputs": [
    {
     "name": "stdout",
     "output_type": "stream",
     "text": [
      "['This ', ' comma ', ' seperated', ' thing ', '', '', ' should clened', ' up!']\n"
     ]
    }
   ],
   "source": [
    "commas = \"This , comma , seperated, thing ,,, should clened, up!\"\n",
    "print(commas.split(\",\"))"
   ]
  },
  {
   "cell_type": "code",
   "execution_count": 8,
   "id": "2ee29773",
   "metadata": {},
   "outputs": [],
   "source": [
    "assert str1.startswith(\"D\") # Data"
   ]
  },
  {
   "cell_type": "code",
   "execution_count": 9,
   "id": "ab834944",
   "metadata": {},
   "outputs": [],
   "source": [
    "assert str1.endswith(\"a\")   # Data"
   ]
  },
  {
   "cell_type": "code",
   "execution_count": 10,
   "id": "ed8e64aa",
   "metadata": {},
   "outputs": [
    {
     "data": {
      "text/plain": [
       "'DATA'"
      ]
     },
     "execution_count": 10,
     "metadata": {},
     "output_type": "execute_result"
    }
   ],
   "source": [
    "str1.upper()"
   ]
  },
  {
   "cell_type": "code",
   "execution_count": 11,
   "id": "4ced9906",
   "metadata": {},
   "outputs": [
    {
     "data": {
      "text/plain": [
       "'science'"
      ]
     },
     "execution_count": 11,
     "metadata": {},
     "output_type": "execute_result"
    }
   ],
   "source": [
    "str2.lower()"
   ]
  },
  {
   "cell_type": "code",
   "execution_count": 12,
   "id": "ff35bc84",
   "metadata": {},
   "outputs": [
    {
     "data": {
      "text/plain": [
       "'Veri'"
      ]
     },
     "execution_count": 12,
     "metadata": {},
     "output_type": "execute_result"
    }
   ],
   "source": [
    "str1.replace(\"Data\", \"Veri\")"
   ]
  },
  {
   "cell_type": "code",
   "execution_count": 13,
   "id": "ba81a8bd",
   "metadata": {},
   "outputs": [
    {
     "name": "stdout",
     "output_type": "stream",
     "text": [
      "This is a joined string!\n"
     ]
    }
   ],
   "source": [
    "# fun way to create a string and common way to create a string with loops\n",
    "joined = \"\".join(\"This is a joined string!\")\n",
    "print(joined)                                     # fastes way"
   ]
  },
  {
   "cell_type": "code",
   "execution_count": 14,
   "id": "6b13f712",
   "metadata": {},
   "outputs": [
    {
     "name": "stdout",
     "output_type": "stream",
     "text": [
      "Hello there this is a formatted String\n"
     ]
    }
   ],
   "source": [
    "# formatting strings\n",
    "print(\"Hello there this is a formatted {}\".format(\"String\"))"
   ]
  },
  {
   "cell_type": "code",
   "execution_count": 15,
   "id": "09fe8973",
   "metadata": {},
   "outputs": [
    {
     "name": "stdout",
     "output_type": "stream",
     "text": [
      "This is also a formatted string 100\n"
     ]
    }
   ],
   "source": [
    "print(\"This is also a formatted string %d\" % 100)"
   ]
  },
  {
   "cell_type": "code",
   "execution_count": 16,
   "id": "ceecdafd",
   "metadata": {},
   "outputs": [
    {
     "name": "stdout",
     "output_type": "stream",
     "text": [
      "This is also a formatted string with float number 1.111\n"
     ]
    }
   ],
   "source": [
    "print(\"This is also a formatted string with float number %.3f\" % 1.11111)"
   ]
  },
  {
   "cell_type": "code",
   "execution_count": 17,
   "id": "9b78a687",
   "metadata": {},
   "outputs": [
    {
     "name": "stdout",
     "output_type": "stream",
     "text": [
      "This is way more FUN way!\n"
     ]
    }
   ],
   "source": [
    "# the newest way to create a formatted string is f-string\n",
    "string1 = \"FUN\"\n",
    "print(f\"This is way more {string1} way!\")"
   ]
  },
  {
   "cell_type": "code",
   "execution_count": 18,
   "id": "de3771fb",
   "metadata": {},
   "outputs": [],
   "source": [
    "# Enes Çavuş - Python Programming Language practices"
   ]
  },
  {
   "cell_type": "code",
   "execution_count": null,
   "id": "a09f8f3f",
   "metadata": {},
   "outputs": [],
   "source": []
  }
 ],
 "metadata": {
  "kernelspec": {
   "display_name": "Python 3 (ipykernel)",
   "language": "python",
   "name": "python3"
  },
  "language_info": {
   "codemirror_mode": {
    "name": "ipython",
    "version": 3
   },
   "file_extension": ".py",
   "mimetype": "text/x-python",
   "name": "python",
   "nbconvert_exporter": "python",
   "pygments_lexer": "ipython3",
   "version": "3.8.1"
  }
 },
 "nbformat": 4,
 "nbformat_minor": 5
}
