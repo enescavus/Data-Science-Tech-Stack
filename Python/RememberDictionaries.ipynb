{
 "cells": [
  {
   "cell_type": "code",
   "execution_count": 1,
   "id": "d4ab6638",
   "metadata": {},
   "outputs": [],
   "source": [
    "# it's all about key-value pairs\n",
    "# key-value pairs can be any type of data type\n",
    "# thisDict = dict(key=value)\n",
    "# alsothisDict = {key:value, key1:value1}"
   ]
  },
  {
   "cell_type": "code",
   "execution_count": 2,
   "id": "cd1eb358",
   "metadata": {},
   "outputs": [
    {
     "data": {
      "text/plain": [
       "{'Gibson Les Paul': 0.1, 'Gibson Special': 0.9, 'Fender Strat': 0.9}"
      ]
     },
     "execution_count": 2,
     "metadata": {},
     "output_type": "execute_result"
    }
   ],
   "source": [
    "guitarsAndStrings = {\"Gibson Les Paul\": 0.10, \"Gibson Special\": 0.9, \"Fender Strat\" : 0.9}\n",
    "guitarsAndStrings"
   ]
  },
  {
   "cell_type": "code",
   "execution_count": 3,
   "id": "b458baaa",
   "metadata": {},
   "outputs": [
    {
     "name": "stdout",
     "output_type": "stream",
     "text": [
      "{'name': 'Enes', 'departmant': 'Computer Science', 'interests': 'Data And Related Topic', 'experience': '2+ years long'}\n",
      "Print only specific key's value : 2+ years long\n"
     ]
    }
   ],
   "source": [
    "whoAmI = dict(name=\"Enes\", departmant=\"Computer Science\", interests=\"Data And Related Topic\", experience = \"2+ years long\")\n",
    "print(whoAmI)\n",
    "print(\"Print only specific key's value : \" + str(whoAmI[\"experience\"]))"
   ]
  },
  {
   "cell_type": "code",
   "execution_count": 4,
   "id": "44242d3e",
   "metadata": {},
   "outputs": [
    {
     "data": {
      "text/plain": [
       "{'name': 'Enes',\n",
       " 'departmant': 'Computer Science',\n",
       " 'interests': 'Data And Related Topic',\n",
       " 'experience': '2+ years long',\n",
       " 'Hobies': 'Self Taught Musician!',\n",
       " 'Others': 'Self Taught Musician!'}"
      ]
     },
     "execution_count": 4,
     "metadata": {},
     "output_type": "execute_result"
    }
   ],
   "source": [
    "# it's mutable\n",
    "whoAmI[\"Hobies\"] = \"Self Taught Musician!\"\n",
    "whoAmI[\"Others\"] = \"Self Taught Musician!\"\n",
    "whoAmI"
   ]
  },
  {
   "cell_type": "code",
   "execution_count": 5,
   "id": "4b6cbcf2",
   "metadata": {},
   "outputs": [
    {
     "data": {
      "text/plain": [
       "{'name': 'Enes',\n",
       " 'departmant': 'Computer Science',\n",
       " 'interests': 'Data And Related Topic',\n",
       " 'experience': '2+ years long',\n",
       " 'Others': 'Self Taught Musician!'}"
      ]
     },
     "execution_count": 5,
     "metadata": {},
     "output_type": "execute_result"
    }
   ],
   "source": [
    "del whoAmI[\"Hobies\"]\n",
    "whoAmI"
   ]
  },
  {
   "cell_type": "code",
   "execution_count": 6,
   "id": "0ebcd5d5",
   "metadata": {},
   "outputs": [
    {
     "data": {
      "text/plain": [
       "{'name': 'Enes',\n",
       " 'departmant': 'Computer Science',\n",
       " 'interests': 'Data And Related Topic',\n",
       " 'experience': '2+ years long'}"
      ]
     },
     "execution_count": 6,
     "metadata": {},
     "output_type": "execute_result"
    }
   ],
   "source": [
    "whoAmI.pop(\"Others\")\n",
    "whoAmI"
   ]
  },
  {
   "cell_type": "code",
   "execution_count": 7,
   "id": "44438931",
   "metadata": {},
   "outputs": [
    {
     "name": "stdout",
     "output_type": "stream",
     "text": [
      "This is key --name-- and this is value --Enes--\n",
      "This is key --departmant-- and this is value --Computer Science--\n",
      "This is key --interests-- and this is value --Data And Related Topic--\n",
      "This is key --experience-- and this is value --2+ years long--\n"
     ]
    }
   ],
   "source": [
    "# manage key value pairs with loops\n",
    "# key and value are already seperated inside the dicts - directly usage with loops down below\n",
    "for key, value in whoAmI.items():\n",
    "    print(\"This is key --{}-- and this is value --{}--\".format(key,value))"
   ]
  },
  {
   "cell_type": "code",
   "execution_count": 8,
   "id": "6340f7a0",
   "metadata": {},
   "outputs": [
    {
     "name": "stdout",
     "output_type": "stream",
     "text": [
      "dict_keys(['Gibson Les Paul', 'Gibson Special', 'Fender Strat'])\n",
      "dict_values([0.1, 0.9, 0.9])\n"
     ]
    }
   ],
   "source": [
    "# key value pairs only \n",
    "print(guitarsAndStrings.keys())\n",
    "print(guitarsAndStrings.values())"
   ]
  },
  {
   "cell_type": "code",
   "execution_count": 9,
   "id": "8f738d80",
   "metadata": {},
   "outputs": [
    {
     "data": {
      "text/plain": [
       "{'Gibson Les Paul': 0.1, 'Gibson Special': 0.9}"
      ]
     },
     "execution_count": 9,
     "metadata": {},
     "output_type": "execute_result"
    }
   ],
   "source": [
    "# copies has the connection with real one, be careful when you change the data in copies, it'll effect the original one.\n",
    "gs = guitarsAndStrings\n",
    "gs.popitem()\n",
    "guitarsAndStrings"
   ]
  },
  {
   "cell_type": "code",
   "execution_count": 10,
   "id": "c476bbc0",
   "metadata": {},
   "outputs": [],
   "source": [
    "guitarsAndStrings['name'] = \"Enes Ç.\""
   ]
  },
  {
   "cell_type": "code",
   "execution_count": 11,
   "id": "d1f897ad",
   "metadata": {},
   "outputs": [
    {
     "data": {
      "text/plain": [
       "{'name': 'Enes Ç.',\n",
       " 'departmant': 'Computer Science',\n",
       " 'interests': 'Data And Related Topic',\n",
       " 'experience': '2+ years long',\n",
       " 'Gibson Les Paul': 0.1,\n",
       " 'Gibson Special': 0.9}"
      ]
     },
     "execution_count": 11,
     "metadata": {},
     "output_type": "execute_result"
    }
   ],
   "source": [
    "# merging dictionaries\n",
    "whoAmI.update(guitarsAndStrings)\n",
    "whoAmI"
   ]
  },
  {
   "cell_type": "code",
   "execution_count": 12,
   "id": "d2c83246",
   "metadata": {},
   "outputs": [],
   "source": [
    "#indexing is not working with dictionaries\n",
    "# whoAmI[1] # will get the KeyError"
   ]
  },
  {
   "cell_type": "code",
   "execution_count": 13,
   "id": "8db5f919",
   "metadata": {},
   "outputs": [
    {
     "name": "stdout",
     "output_type": "stream",
     "text": [
      "<class 'dict'>\n",
      "<class 'list'>\n",
      "<class 'tuple'>\n"
     ]
    }
   ],
   "source": [
    "# list and tuple in a dict together\n",
    "thisDictCopmlex = {\n",
    "    \"item1List\" : [\"listitem1\", 2,3,4,5, \"randomTextHere\"],\n",
    "    \"item2Tuple\" : (\"tuples Are Immutable\", \"Yes Tuples are Immutable\")\n",
    "}\n",
    "thisDictCopmlex\n",
    "print(type(thisDictCopmlex))\n",
    "print(type(thisDictCopmlex[\"item1List\"]))\n",
    "print(type(thisDictCopmlex[\"item2Tuple\"]))"
   ]
  },
  {
   "cell_type": "code",
   "execution_count": 14,
   "id": "f8b07696",
   "metadata": {},
   "outputs": [],
   "source": [
    "# Enes Çavus - Some random Python Data Structures Practices"
   ]
  },
  {
   "cell_type": "code",
   "execution_count": null,
   "id": "3aa4d391",
   "metadata": {},
   "outputs": [],
   "source": []
  }
 ],
 "metadata": {
  "kernelspec": {
   "display_name": "Python 3 (ipykernel)",
   "language": "python",
   "name": "python3"
  },
  "language_info": {
   "codemirror_mode": {
    "name": "ipython",
    "version": 3
   },
   "file_extension": ".py",
   "mimetype": "text/x-python",
   "name": "python",
   "nbconvert_exporter": "python",
   "pygments_lexer": "ipython3",
   "version": "3.8.1"
  }
 },
 "nbformat": 4,
 "nbformat_minor": 5
}
