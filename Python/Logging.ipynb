{
 "cells": [
  {
   "cell_type": "code",
   "execution_count": 59,
   "id": "2cea6cf9",
   "metadata": {},
   "outputs": [],
   "source": [
    "import logging  # it's a built-in module- n worry to import \n",
    "# logging can be usefull to store whats happening and wha's happend in our aplications, \n",
    "# also for watchinh the process we can add some logs to the code like print statements\n",
    "# there are several logging methods  -- for more -> https://docs.python.org/3/library/logging.html"
   ]
  },
  {
   "cell_type": "code",
   "execution_count": 60,
   "id": "6ed46e00",
   "metadata": {},
   "outputs": [],
   "source": [
    "logger = logging.getLogger()\n",
    "fhandler = logging.FileHandler(filename='test.log', mode='a')\n",
    "formatter = logging.Formatter('%(asctime)s - %(name)s - %(levelname)s - %(message)s')\n",
    "fhandler.setFormatter(formatter)\n",
    "logger.addHandler(fhandler)\n",
    "logger.setLevel(logging.DEBUG)\n",
    "# ipython notebooks has a problem with log saving so down below\n",
    "# check the que https://stackoverflow.com/questions/18786912/get-output-from-the-logging-module-in-ipython-notebook"
   ]
  },
  {
   "cell_type": "code",
   "execution_count": 61,
   "id": "bd5c473c",
   "metadata": {},
   "outputs": [
    {
     "name": "stderr",
     "output_type": "stream",
     "text": [
      "DEBUG:root:this is a log\n"
     ]
    }
   ],
   "source": [
    "logging.debug(\"this is a log\")"
   ]
  },
  {
   "cell_type": "code",
   "execution_count": 62,
   "id": "9d654271",
   "metadata": {},
   "outputs": [
    {
     "name": "stderr",
     "output_type": "stream",
     "text": [
      "INFO:root:This is a log warning\n"
     ]
    }
   ],
   "source": [
    "logging.info(\"This is a log warning\")"
   ]
  },
  {
   "cell_type": "code",
   "execution_count": 63,
   "id": "6e737ec8",
   "metadata": {},
   "outputs": [
    {
     "name": "stderr",
     "output_type": "stream",
     "text": [
      "WARNING:root:We got a warning here!!!\n"
     ]
    }
   ],
   "source": [
    "logging.warning(\"We got a warning here!!!\")"
   ]
  },
  {
   "cell_type": "code",
   "execution_count": 64,
   "id": "42406778",
   "metadata": {},
   "outputs": [],
   "source": [
    "# default log is ROOt so if you want to create your own logging module it is also possiable\n",
    "# "
   ]
  },
  {
   "cell_type": "code",
   "execution_count": 69,
   "id": "511ec131",
   "metadata": {},
   "outputs": [],
   "source": [
    "# change the formatting  - https://docs.python.org/3/library/logging.html#logging.Formatter\n",
    "# my_format = logging.Formatter('%(levelname)s  :  %(pathname)s  : %(message)s')\n"
   ]
  },
  {
   "cell_type": "code",
   "execution_count": 70,
   "id": "5302165c",
   "metadata": {},
   "outputs": [
    {
     "name": "stderr",
     "output_type": "stream",
     "text": [
      "DEBUG:root:This is a different formatting style.\n"
     ]
    }
   ],
   "source": [
    "logging.debug(\"This is a different formatting style.\")"
   ]
  },
  {
   "cell_type": "code",
   "execution_count": null,
   "id": "f20edd3c",
   "metadata": {},
   "outputs": [],
   "source": []
  }
 ],
 "metadata": {
  "kernelspec": {
   "display_name": "Python 3 (ipykernel)",
   "language": "python",
   "name": "python3"
  },
  "language_info": {
   "codemirror_mode": {
    "name": "ipython",
    "version": 3
   },
   "file_extension": ".py",
   "mimetype": "text/x-python",
   "name": "python",
   "nbconvert_exporter": "python",
   "pygments_lexer": "ipython3",
   "version": "3.8.1"
  }
 },
 "nbformat": 4,
 "nbformat_minor": 5
}
