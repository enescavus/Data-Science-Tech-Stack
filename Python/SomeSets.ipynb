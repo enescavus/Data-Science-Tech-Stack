{
 "cells": [
  {
   "cell_type": "code",
   "execution_count": 1,
   "id": "98454312",
   "metadata": {},
   "outputs": [],
   "source": [
    "# sets are sets\n",
    "# unordered, mutable with cool curly brackets"
   ]
  },
  {
   "cell_type": "code",
   "execution_count": 1,
   "id": "8391e812",
   "metadata": {},
   "outputs": [
    {
     "name": "stdout",
     "output_type": "stream",
     "text": [
      "{1, 2, 3, 4, 5, 6}\n",
      "<class 'set'>\n",
      "{'l', 'm', 'O', 't', 'n', 'e', 'E'}\n",
      "<class 'set'>\n"
     ]
    }
   ],
   "source": [
    "thisSet = {1,2,3,4,5,6,5,4,3,2,1} # check out the output, there is no duplicated values, this is set's difference\n",
    "thisIsAlseSet = set(\"OneElement\") # check out the output, it is unordered anyway, case sensetive\n",
    "print(thisSet)\n",
    "print(type(thisSet))\n",
    "print(thisIsAlseSet)\n",
    "print(type(thisIsAlseSet))"
   ]
  },
  {
   "cell_type": "code",
   "execution_count": 2,
   "id": "ad236cb1",
   "metadata": {},
   "outputs": [
    {
     "name": "stdout",
     "output_type": "stream",
     "text": [
      "{1, 2, 3, 4, 5, 6, 555, 333, 222}\n",
      "set()\n"
     ]
    }
   ],
   "source": [
    "# add-remove - clean it up\n",
    "thisSet.add(222)\n",
    "thisSet.add(333)\n",
    "thisSet.add(444)\n",
    "thisSet.add(555)\n",
    "thisSet.remove(444)\n",
    "print(thisSet)\n",
    "thisIsAlseSet.clear()\n",
    "print(thisIsAlseSet)"
   ]
  },
  {
   "cell_type": "code",
   "execution_count": 3,
   "id": "797b1282",
   "metadata": {},
   "outputs": [
    {
     "name": "stdout",
     "output_type": "stream",
     "text": [
      "1\n",
      "{2, 3, 4, 5, 6, 555, 333, 222}\n"
     ]
    }
   ],
   "source": [
    "# pop some\n",
    "valuePopped = thisSet.pop() # popped first element as default, can be modified\n",
    "print(valuePopped)\n",
    "print(thisSet)"
   ]
  },
  {
   "cell_type": "code",
   "execution_count": 4,
   "id": "90ec40de",
   "metadata": {},
   "outputs": [
    {
     "name": "stdout",
     "output_type": "stream",
     "text": [
      "2\n",
      "3\n",
      "4\n",
      "5\n",
      "6\n",
      "555\n",
      "333\n",
      "222\n"
     ]
    }
   ],
   "source": [
    "# iterations\n",
    "for item in thisSet:\n",
    "    print(item)"
   ]
  },
  {
   "cell_type": "code",
   "execution_count": 5,
   "id": "f55c3ed1",
   "metadata": {},
   "outputs": [],
   "source": [
    "###### sets are important with this UNION JOIN INTERSACTION\n",
    "even = {2,4,6,8}\n",
    "odd = {1,3,5,7,9}\n",
    "prime = {2,3,5,7}"
   ]
  },
  {
   "cell_type": "code",
   "execution_count": 6,
   "id": "79a89491",
   "metadata": {},
   "outputs": [
    {
     "data": {
      "text/plain": [
       "{1, 2, 3, 4, 5, 6, 7, 8, 9}"
      ]
     },
     "execution_count": 6,
     "metadata": {},
     "output_type": "execute_result"
    }
   ],
   "source": [
    "all_nums = odd.union(even)\n",
    "all_nums"
   ]
  },
  {
   "cell_type": "code",
   "execution_count": 7,
   "id": "aaeaad62",
   "metadata": {},
   "outputs": [
    {
     "data": {
      "text/plain": [
       "{2}"
      ]
     },
     "execution_count": 7,
     "metadata": {},
     "output_type": "execute_result"
    }
   ],
   "source": [
    "interSec = even.intersection(prime)\n",
    "interSec"
   ]
  },
  {
   "cell_type": "code",
   "execution_count": 8,
   "id": "96fa9018",
   "metadata": {},
   "outputs": [
    {
     "data": {
      "text/plain": [
       "{4, 6, 8}"
      ]
     },
     "execution_count": 8,
     "metadata": {},
     "output_type": "execute_result"
    }
   ],
   "source": [
    "# non-common number\n",
    "difference = even.difference(prime)\n",
    "difference"
   ]
  },
  {
   "cell_type": "code",
   "execution_count": 9,
   "id": "28aca830",
   "metadata": {},
   "outputs": [
    {
     "data": {
      "text/plain": [
       "{3, 4, 5, 6, 7, 8}"
      ]
     },
     "execution_count": 9,
     "metadata": {},
     "output_type": "execute_result"
    }
   ],
   "source": [
    "# difference of two different sets, extracting the common values whihc is also the intersectin above -> 2 only\n",
    "symtricDif = even.symmetric_difference(prime)\n",
    "symtricDif"
   ]
  },
  {
   "cell_type": "code",
   "execution_count": 10,
   "id": "74bde9fa",
   "metadata": {},
   "outputs": [
    {
     "data": {
      "text/plain": [
       "{2, 4, 6, 8}"
      ]
     },
     "execution_count": 10,
     "metadata": {},
     "output_type": "execute_result"
    }
   ],
   "source": [
    "updatedSet = set()\n",
    "updatedSet.update(even)\n",
    "even"
   ]
  },
  {
   "cell_type": "code",
   "execution_count": 11,
   "id": "ff544c15",
   "metadata": {},
   "outputs": [
    {
     "data": {
      "text/plain": [
       "{1, 2, 3, 4, 5, 6, 7, 8, 9}"
      ]
     },
     "execution_count": 11,
     "metadata": {},
     "output_type": "execute_result"
    }
   ],
   "source": [
    "even.symmetric_difference_update(odd)\n",
    "even"
   ]
  },
  {
   "cell_type": "code",
   "execution_count": 12,
   "id": "e86d4397",
   "metadata": {},
   "outputs": [
    {
     "data": {
      "text/plain": [
       "{2, 4, 6, 8}"
      ]
     },
     "execution_count": 12,
     "metadata": {},
     "output_type": "execute_result"
    }
   ],
   "source": [
    "even.difference_update(odd)\n",
    "even"
   ]
  },
  {
   "cell_type": "code",
   "execution_count": 13,
   "id": "f663dc50",
   "metadata": {},
   "outputs": [],
   "source": [
    "# disjoint check , that means TRUE if there is no common elements in these two sets\n",
    "setX = {1,2,3}\n",
    "setY = {4,5,6}\n",
    "assert setX.isdisjoint(setY)"
   ]
  },
  {
   "cell_type": "code",
   "execution_count": 14,
   "id": "bebf5747",
   "metadata": {},
   "outputs": [],
   "source": [
    "# super SET and sub SET\n",
    "superSet = {1,2,3,4,5,6,7}\n",
    "subSet = {1,4,7}\n",
    "assert subSet.issubset(superSet) # is subset subset for superset\n",
    "assert superSet.issuperset(subSet) # isSuperSet superset for subset"
   ]
  },
  {
   "cell_type": "code",
   "execution_count": 15,
   "id": "cf1cfc9d",
   "metadata": {},
   "outputs": [],
   "source": [
    "# Enes Çavus - Some random Python Data Structures Practices"
   ]
  },
  {
   "cell_type": "code",
   "execution_count": null,
   "id": "28d478d2",
   "metadata": {},
   "outputs": [],
   "source": []
  }
 ],
 "metadata": {
  "kernelspec": {
   "display_name": "Python 3 (ipykernel)",
   "language": "python",
   "name": "python3"
  },
  "language_info": {
   "codemirror_mode": {
    "name": "ipython",
    "version": 3
   },
   "file_extension": ".py",
   "mimetype": "text/x-python",
   "name": "python",
   "nbconvert_exporter": "python",
   "pygments_lexer": "ipython3",
   "version": "3.8.1"
  }
 },
 "nbformat": 4,
 "nbformat_minor": 5
}
