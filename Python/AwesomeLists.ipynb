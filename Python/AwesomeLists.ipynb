{
 "cells": [
  {
   "cell_type": "markdown",
   "id": "75691a4a",
   "metadata": {},
   "source": [
    "- Python lists - very useful and interactive python data structures \n",
    "- the most common one\n",
    "- mutable and allows duplicate elements"
   ]
  },
  {
   "cell_type": "code",
   "execution_count": 1,
   "id": "df999de5",
   "metadata": {},
   "outputs": [
    {
     "name": "stdout",
     "output_type": "stream",
     "text": [
      "['Gibson Les Paul', 'Fender Strat', 'Epiphone Acoustic']\n"
     ]
    }
   ],
   "source": [
    "# create a list within items\n",
    "myGuitars = [\"Gibson Les Paul\", \"Fender Strat\", \"Epiphone Acoustic\"]\n",
    "print(myGuitars)"
   ]
  },
  {
   "cell_type": "code",
   "execution_count": 2,
   "id": "dd36a35f",
   "metadata": {},
   "outputs": [
    {
     "name": "stdout",
     "output_type": "stream",
     "text": [
      "<class 'list'>\n",
      "[]\n"
     ]
    }
   ],
   "source": [
    "# create an empyt list\n",
    "myGuitarStrings = list()\n",
    "print(type(myGuitarStrings))\n",
    "print(myGuitarStrings)"
   ]
  },
  {
   "cell_type": "code",
   "execution_count": 3,
   "id": "8bd2b4ec",
   "metadata": {},
   "outputs": [
    {
     "data": {
      "text/plain": [
       "['Gibson Les Paul', 'Fender Strat']"
      ]
     },
     "execution_count": 3,
     "metadata": {},
     "output_type": "execute_result"
    }
   ],
   "source": [
    "myGuitars[-3:-1] # -1 is the last item, ending of the slicing range is not included "
   ]
  },
  {
   "cell_type": "code",
   "execution_count": 4,
   "id": "c7fe24c2",
   "metadata": {},
   "outputs": [
    {
     "name": "stdout",
     "output_type": "stream",
     "text": [
      "Gibson Les Paul\n",
      "Fender Strat\n",
      "Epiphone Acoustic\n"
     ]
    }
   ],
   "source": [
    "for item in myGuitars:\n",
    "    print(item)"
   ]
  },
  {
   "cell_type": "code",
   "execution_count": 5,
   "id": "abdc514c",
   "metadata": {},
   "outputs": [
    {
     "data": {
      "text/plain": [
       "['Gibson Les Paul', 'Fender Strat', 'Epiphone Acoustic']"
      ]
     },
     "execution_count": 5,
     "metadata": {},
     "output_type": "execute_result"
    }
   ],
   "source": [
    "myGuitars[:]"
   ]
  },
  {
   "cell_type": "code",
   "execution_count": 6,
   "id": "e80dfb7b",
   "metadata": {},
   "outputs": [
    {
     "name": "stdout",
     "output_type": "stream",
     "text": [
      "You don't have this guitar in your inventary but don't worry you already have these 3 guitars\n",
      "['Gibson Les Paul', 'Fender Strat', 'Epiphone Acoustic']\n"
     ]
    }
   ],
   "source": [
    "if \"Gibson Special\" in myGuitars:\n",
    "    print(\"Perfect, you have this Guitar in your instrument inventary!!!\")\n",
    "else:\n",
    "    print(\"You don't have this guitar in your inventary but don't worry you already have these {} guitars\".format(len(myGuitars)))\n",
    "    print([guitar for guitar in myGuitars])"
   ]
  },
  {
   "cell_type": "code",
   "execution_count": 7,
   "id": "1a6ddc83",
   "metadata": {},
   "outputs": [
    {
     "data": {
      "text/plain": [
       "['Gibson Les Paul', 'Gibson Special', 'Fender Strat', 'Epiphone Acoustic']"
      ]
     },
     "execution_count": 7,
     "metadata": {},
     "output_type": "execute_result"
    }
   ],
   "source": [
    "# when you bought a new guitar\n",
    "#myGuitars.append(\"Gibson Speacial\")\n",
    "# into a specified index number\n",
    "myGuitars.insert(1, \"Gibson Special\")\n",
    "myGuitars"
   ]
  },
  {
   "cell_type": "code",
   "execution_count": 8,
   "id": "aed44b1d",
   "metadata": {},
   "outputs": [
    {
     "data": {
      "text/plain": [
       "['Gibson Special', 'Fender Strat', 'Epiphone Acoustic']"
      ]
     },
     "execution_count": 8,
     "metadata": {},
     "output_type": "execute_result"
    }
   ],
   "source": [
    "# when you sold a guitar \n",
    "myGuitars.remove(\"Gibson Les Paul\")\n",
    "myGuitars"
   ]
  },
  {
   "cell_type": "code",
   "execution_count": 9,
   "id": "f66a6388",
   "metadata": {},
   "outputs": [
    {
     "name": "stdout",
     "output_type": "stream",
     "text": [
      "['Epiphone Acoustic', 'Fender Strat', 'Gibson Special']\n",
      "['Epiphone Acoustic']\n"
     ]
    }
   ],
   "source": [
    "# change the order \n",
    "myGuitars.reverse()\n",
    "print(myGuitars)\n",
    "# get the last item we got in this list - you have the option to chose pop up and it will be removed\n",
    "myGuitars.pop(1)\n",
    "myGuitars.pop()\n",
    "print(myGuitars)"
   ]
  },
  {
   "cell_type": "code",
   "execution_count": 10,
   "id": "413d5419",
   "metadata": {},
   "outputs": [
    {
     "data": {
      "text/plain": [
       "['Epiphone Acoustic']"
      ]
     },
     "execution_count": 10,
     "metadata": {},
     "output_type": "execute_result"
    }
   ],
   "source": [
    "# do you want to sort it\n",
    "myGuitars.sort()\n",
    "myGuitars # alphabetically"
   ]
  },
  {
   "cell_type": "code",
   "execution_count": 11,
   "id": "36b262ca",
   "metadata": {},
   "outputs": [
    {
     "data": {
      "text/plain": [
       "[5, 5, 5, 5, 5, 5, 5, 5, 5, 5]"
      ]
     },
     "execution_count": 11,
     "metadata": {},
     "output_type": "execute_result"
    }
   ],
   "source": [
    "# easily create lists\n",
    "fives = [5] * 10\n",
    "fives"
   ]
  },
  {
   "cell_type": "code",
   "execution_count": 12,
   "id": "67cb1f36",
   "metadata": {},
   "outputs": [
    {
     "name": "stdout",
     "output_type": "stream",
     "text": [
      "10\n"
     ]
    }
   ],
   "source": [
    "# how many 5s we got here - get the count with count func\n",
    "print(fives.count(5))\n"
   ]
  },
  {
   "cell_type": "code",
   "execution_count": 13,
   "id": "29b59e33",
   "metadata": {},
   "outputs": [
    {
     "data": {
      "text/plain": [
       "[]"
      ]
     },
     "execution_count": 13,
     "metadata": {},
     "output_type": "execute_result"
    }
   ],
   "source": [
    "# clean up things del list[:] or list.clear() \n",
    "# fives.clear()\n",
    "del fives[:]\n",
    "fives"
   ]
  },
  {
   "cell_type": "code",
   "execution_count": 14,
   "id": "2c253113",
   "metadata": {},
   "outputs": [
    {
     "name": "stdout",
     "output_type": "stream",
     "text": [
      "[1, 3, 5, 7, 9]\n",
      "[5, 7, 9]\n",
      "[1, 3, 5, 7, 9]\n",
      "[5]\n"
     ]
    }
   ],
   "source": [
    "# slicing - [start:stop:step]\n",
    "slicingList = [1,3,5,7,9]\n",
    "print(slicingList[:])\n",
    "print(slicingList[2:])\n",
    "print(slicingList[:5])\n",
    "print(slicingList[2:-2])"
   ]
  },
  {
   "cell_type": "code",
   "execution_count": 15,
   "id": "6b97eadd",
   "metadata": {},
   "outputs": [
    {
     "data": {
      "text/plain": [
       "[1, 5, 9]"
      ]
     },
     "execution_count": 15,
     "metadata": {},
     "output_type": "execute_result"
    }
   ],
   "source": [
    "# stepping slicing\n",
    "slicingList[::2]"
   ]
  },
  {
   "cell_type": "code",
   "execution_count": 16,
   "id": "33d2a2f9",
   "metadata": {},
   "outputs": [
    {
     "data": {
      "text/plain": [
       "['cat', 'dog', 'horse', 'giraffe']"
      ]
     },
     "execution_count": 16,
     "metadata": {},
     "output_type": "execute_result"
    }
   ],
   "source": [
    "# get some copies - without touching the original one\n",
    "animals = [\"cat\",\"dog\",\"horse\",\"giraffe\"]\n",
    "copyAnimals = animals.copy()\n",
    "copyAnimals"
   ]
  },
  {
   "cell_type": "code",
   "execution_count": 17,
   "id": "b0a348dd",
   "metadata": {},
   "outputs": [
    {
     "name": "stdout",
     "output_type": "stream",
     "text": [
      "[1, 4, 9, 16, 25, 36, 49, 64, 81]\n"
     ]
    }
   ],
   "source": [
    "# list comprehensions\n",
    "nums = [1,2,3,4,5,6,7,8,9]\n",
    "squarednums = [item*item for item in nums]\n",
    "print(squarednums)"
   ]
  },
  {
   "cell_type": "code",
   "execution_count": 18,
   "id": "8b08d5c9",
   "metadata": {},
   "outputs": [
    {
     "data": {
      "text/plain": [
       "[[[1, 2], [3, 4], [5]], [[6], [7, 8, 9], [10], [[-1, -2], [-3, -4, -5, -6]]]]"
      ]
     },
     "execution_count": 18,
     "metadata": {},
     "output_type": "execute_result"
    }
   ],
   "source": [
    "# list in a list in a list\n",
    "lists = [\n",
    "    [[1,2],[3,4],[5]],\n",
    "    [[6],[7,8,9],[10],[[-1,-2],[-3,-4,-5,-6]]]]\n",
    "lists"
   ]
  },
  {
   "cell_type": "code",
   "execution_count": 19,
   "id": "079ff706",
   "metadata": {},
   "outputs": [
    {
     "name": "stdout",
     "output_type": "stream",
     "text": [
      "[[[1, 2], [3, 4], [5]], [[6], [7, 8, 9], [10], [[-1, -2], [-3, -4, -5, -6]]]]\n",
      "[[6], [7, 8, 9], [10], [[-1, -2], [-3, -4, -5, -6]]]\n",
      "[[-1, -2], [-3, -4, -5, -6]]\n",
      "[-3, -4, -5, -6]\n",
      "-4\n"
     ]
    }
   ],
   "source": [
    "# in detailed - try to reach number -4\n",
    "print(lists[:])\n",
    "print(lists[:][1])\n",
    "print(lists[:][1][3])\n",
    "print(lists[:][1][3][1])\n",
    "print(lists[:][1][3][1][1])"
   ]
  },
  {
   "cell_type": "code",
   "execution_count": 20,
   "id": "006f485f",
   "metadata": {},
   "outputs": [],
   "source": [
    "# Enes Çavus - Some random Python Data Structures Practices"
   ]
  },
  {
   "cell_type": "code",
   "execution_count": null,
   "id": "d18a5c5e",
   "metadata": {},
   "outputs": [],
   "source": []
  }
 ],
 "metadata": {
  "kernelspec": {
   "display_name": "Python 3 (ipykernel)",
   "language": "python",
   "name": "python3"
  },
  "language_info": {
   "codemirror_mode": {
    "name": "ipython",
    "version": 3
   },
   "file_extension": ".py",
   "mimetype": "text/x-python",
   "name": "python",
   "nbconvert_exporter": "python",
   "pygments_lexer": "ipython3",
   "version": "3.8.1"
  }
 },
 "nbformat": 4,
 "nbformat_minor": 5
}
