{
 "cells": [
  {
   "cell_type": "code",
   "execution_count": 1,
   "id": "45c4fde4",
   "metadata": {},
   "outputs": [],
   "source": [
    "# Enes Cavus - OOP practices with Python"
   ]
  },
  {
   "cell_type": "code",
   "execution_count": 2,
   "id": "71a7b8b1",
   "metadata": {},
   "outputs": [],
   "source": [
    "# guitar features - GUITAR CLASS\n",
    "# - guitar type classic - acoustic - electic - bass\n",
    "# - string count 4-5-6-7\n",
    "# - wood types walnut - rosewood - ebony"
   ]
  },
  {
   "cell_type": "code",
   "execution_count": 3,
   "id": "812f69e1",
   "metadata": {},
   "outputs": [],
   "source": [
    "class Guitars():\n",
    "    # initializer - default called function when object created\n",
    "    def __init__(self, guitar_type, string_count, wood_type):\n",
    "        self.guitar_type = guitar_type\n",
    "        self.string_count = string_count\n",
    "        self.wood_type = wood_type\n",
    "        print(\"__init__ fucntion ran ... Guitar type created!\")\n",
    "        print(\"Created guitar features are : \", self.guitar_type, self.string_count, self.wood_type)\n",
    "    \n",
    "    # self is a must - it allows us to use other variables in the class\n",
    "    def firstMethod(self):\n",
    "        print(f\"this is a test method and don't forget to use self : guitar type is {self.guitar_type} \")"
   ]
  },
  {
   "cell_type": "code",
   "execution_count": 4,
   "id": "bac941c6",
   "metadata": {},
   "outputs": [
    {
     "name": "stdout",
     "output_type": "stream",
     "text": [
      "__init__ fucntion ran ... Guitar type created!\n",
      "Created guitar features are :  electric 6 walnut\n"
     ]
    }
   ],
   "source": [
    "electric_guitar = Guitars(\"electric\", 6, \"walnut\")"
   ]
  },
  {
   "cell_type": "code",
   "execution_count": 5,
   "id": "458d260c",
   "metadata": {},
   "outputs": [
    {
     "name": "stdout",
     "output_type": "stream",
     "text": [
      "electric\n",
      "6\n",
      "walnut\n"
     ]
    }
   ],
   "source": [
    "print(electric_guitar.guitar_type)\n",
    "print(electric_guitar.string_count)\n",
    "print(electric_guitar.wood_type)"
   ]
  },
  {
   "cell_type": "code",
   "execution_count": 6,
   "id": "9b923a5f",
   "metadata": {},
   "outputs": [
    {
     "name": "stdout",
     "output_type": "stream",
     "text": [
      "this is a test method and don't forget to use self : guitar type is electric \n"
     ]
    }
   ],
   "source": [
    "# testing test method\n",
    "electric_guitar.firstMethod()"
   ]
  },
  {
   "cell_type": "code",
   "execution_count": 7,
   "id": "9f41c79d",
   "metadata": {},
   "outputs": [],
   "source": [
    "import datetime"
   ]
  },
  {
   "cell_type": "code",
   "execution_count": 8,
   "id": "2043cff8",
   "metadata": {},
   "outputs": [],
   "source": [
    "class Car():\n",
    "    today = datetime.datetime.now()\n",
    "    # assigning default values - check isHibrit\n",
    "    def __init__(self, year, isHibrit = False):\n",
    "        self.year = year\n",
    "        self.isHibrit = isHibrit\n",
    "        \n",
    "    def findYear(self):\n",
    "        print(\"Car Manufacture year is : \", self.today.year - self.year)"
   ]
  },
  {
   "cell_type": "code",
   "execution_count": 9,
   "id": "8fbb8951",
   "metadata": {},
   "outputs": [],
   "source": [
    "myCar = Car(4)"
   ]
  },
  {
   "cell_type": "code",
   "execution_count": 10,
   "id": "c74823bf",
   "metadata": {},
   "outputs": [
    {
     "data": {
      "text/plain": [
       "False"
      ]
     },
     "execution_count": 10,
     "metadata": {},
     "output_type": "execute_result"
    }
   ],
   "source": [
    "myCar.isHibrit"
   ]
  },
  {
   "cell_type": "code",
   "execution_count": 11,
   "id": "15e5bd94",
   "metadata": {},
   "outputs": [],
   "source": [
    "myCar2 = Car(3,isHibrit=True)"
   ]
  },
  {
   "cell_type": "code",
   "execution_count": 12,
   "id": "b7181b38",
   "metadata": {},
   "outputs": [
    {
     "data": {
      "text/plain": [
       "True"
      ]
     },
     "execution_count": 12,
     "metadata": {},
     "output_type": "execute_result"
    }
   ],
   "source": [
    "myCar2.isHibrit"
   ]
  },
  {
   "cell_type": "code",
   "execution_count": 13,
   "id": "616e6878",
   "metadata": {},
   "outputs": [
    {
     "name": "stdout",
     "output_type": "stream",
     "text": [
      "Car Manufacture year is :  2018\n"
     ]
    }
   ],
   "source": [
    "myCar.findYear()"
   ]
  },
  {
   "cell_type": "code",
   "execution_count": null,
   "id": "09c93d3a",
   "metadata": {},
   "outputs": [],
   "source": []
  },
  {
   "cell_type": "markdown",
   "id": "fbfb1f16",
   "metadata": {},
   "source": [
    "## Ineritance"
   ]
  },
  {
   "cell_type": "code",
   "execution_count": 14,
   "id": "3beef79b",
   "metadata": {},
   "outputs": [],
   "source": [
    "class Vehicle():\n",
    "    def __init__(self,speed):\n",
    "        self.speed = speed\n",
    "        print(\"__init__ function from Vehicle class\")\n",
    "        \n",
    "    def VehicleMethod1(self):\n",
    "        print(\"This is Vehicle Method 1 \")\n",
    "        \n",
    "    def VehicleMethod1(self):\n",
    "        print(\"This is Vehicle Method 2 \")\n",
    "        \n",
    "    def method3(self):\n",
    "        print(\"This is method 3 from Main Class -> Vehicle\")\n",
    "        \n",
    "    def method4(self):\n",
    "        print(\"This is method 4 from Main Class -> Vehicle\")"
   ]
  },
  {
   "cell_type": "code",
   "execution_count": 15,
   "id": "079749c5",
   "metadata": {},
   "outputs": [],
   "source": [
    "class Bus(Vehicle):\n",
    "    def __init__(self):\n",
    "        print(\"This is Bus class __init__\")\n",
    "        \n",
    "    def busClassMethod1(self):\n",
    "        print(\"This is bus class method 1 \")\n",
    "        \n",
    "    def method4(self):\n",
    "        print(\"This is method 4 from Bus Class -> Ovberwrite ... Vehicle\")"
   ]
  },
  {
   "cell_type": "code",
   "execution_count": 16,
   "id": "a8f8bad7",
   "metadata": {},
   "outputs": [
    {
     "name": "stdout",
     "output_type": "stream",
     "text": [
      "This is Bus class __init__\n"
     ]
    }
   ],
   "source": [
    "myBus = Bus()"
   ]
  },
  {
   "cell_type": "code",
   "execution_count": 17,
   "id": "2b4785f3",
   "metadata": {},
   "outputs": [
    {
     "name": "stdout",
     "output_type": "stream",
     "text": [
      "This is method 3 from Main Class -> Vehicle\n"
     ]
    }
   ],
   "source": [
    "# call upper class methods \n",
    "myBus.method3()"
   ]
  },
  {
   "cell_type": "code",
   "execution_count": 18,
   "id": "f26cd979",
   "metadata": {},
   "outputs": [
    {
     "name": "stdout",
     "output_type": "stream",
     "text": [
      "This is bus class method 1 \n"
     ]
    }
   ],
   "source": [
    "# call inner methods\n",
    "myBus.busClassMethod1()"
   ]
  },
  {
   "cell_type": "code",
   "execution_count": 19,
   "id": "301209ee",
   "metadata": {},
   "outputs": [
    {
     "name": "stdout",
     "output_type": "stream",
     "text": [
      "This is method 4 from Bus Class -> Ovberwrite ... Vehicle\n"
     ]
    }
   ],
   "source": [
    "myBus.method4()"
   ]
  },
  {
   "cell_type": "code",
   "execution_count": null,
   "id": "7e0228af",
   "metadata": {},
   "outputs": [],
   "source": []
  },
  {
   "cell_type": "markdown",
   "id": "5c59db28",
   "metadata": {},
   "source": [
    "## Magic Methods"
   ]
  },
  {
   "cell_type": "code",
   "execution_count": 20,
   "id": "4ef3d4a4",
   "metadata": {},
   "outputs": [],
   "source": [
    "class Animal():\n",
    "    def __init__(self,name,age):\n",
    "        self.name = name\n",
    "        self.age = age\n",
    "        \n",
    "    def __str__(self):\n",
    "        return \"This is a default function for printing - can be specified\"\n",
    "    \n",
    "    # more to discover here https://www.analyticsvidhya.com/blog/2021/08/explore-the-magic-methods-in-python/"
   ]
  },
  {
   "cell_type": "code",
   "execution_count": 21,
   "id": "cfa820ae",
   "metadata": {},
   "outputs": [],
   "source": [
    "dog = Animal(\"Dog\", 4)"
   ]
  },
  {
   "cell_type": "code",
   "execution_count": 22,
   "id": "37d21f4e",
   "metadata": {},
   "outputs": [
    {
     "data": {
      "text/plain": [
       "<__main__.Animal at 0x1103bfd30>"
      ]
     },
     "execution_count": 22,
     "metadata": {},
     "output_type": "execute_result"
    }
   ],
   "source": [
    "dog"
   ]
  },
  {
   "cell_type": "code",
   "execution_count": 23,
   "id": "ca969913",
   "metadata": {},
   "outputs": [
    {
     "name": "stdout",
     "output_type": "stream",
     "text": [
      "This is a default function for printing - can be specified\n"
     ]
    }
   ],
   "source": [
    "print(dog) # check out the __str__ function"
   ]
  },
  {
   "cell_type": "code",
   "execution_count": null,
   "id": "dd7db235",
   "metadata": {},
   "outputs": [],
   "source": []
  },
  {
   "cell_type": "code",
   "execution_count": 24,
   "id": "f54849b0",
   "metadata": {},
   "outputs": [],
   "source": [
    "# Enes Cavus - OOP Practices"
   ]
  },
  {
   "cell_type": "code",
   "execution_count": null,
   "id": "23116fa7",
   "metadata": {},
   "outputs": [],
   "source": []
  }
 ],
 "metadata": {
  "kernelspec": {
   "display_name": "Python 3 (ipykernel)",
   "language": "python",
   "name": "python3"
  },
  "language_info": {
   "codemirror_mode": {
    "name": "ipython",
    "version": 3
   },
   "file_extension": ".py",
   "mimetype": "text/x-python",
   "name": "python",
   "nbconvert_exporter": "python",
   "pygments_lexer": "ipython3",
   "version": "3.8.1"
  }
 },
 "nbformat": 4,
 "nbformat_minor": 5
}
