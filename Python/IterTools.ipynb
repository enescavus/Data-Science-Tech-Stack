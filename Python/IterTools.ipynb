{
 "cells": [
  {
   "cell_type": "code",
   "execution_count": 1,
   "id": "68a3b66f",
   "metadata": {},
   "outputs": [],
   "source": [
    "# main functin source is https://docs.python.org/3/library/itertools.html# and https://www.youtube.com/channel/UCbXgNpp0jedKWcQiULLbDTA\n",
    "# iter tools are fun way to play with math funcitons\n",
    "# most commons are ,count, cycle, permutation, combination, product etc"
   ]
  },
  {
   "cell_type": "code",
   "execution_count": 2,
   "id": "d8ea6e61",
   "metadata": {},
   "outputs": [
    {
     "name": "stdout",
     "output_type": "stream",
     "text": [
      "[repeat('123', 4)]\n",
      "15\n",
      "16\n",
      "17\n",
      "18\n",
      "19\n",
      "20\n",
      "21\n",
      "a\n",
      "b\n",
      "a\n",
      "b\n",
      "a\n",
      "b\n",
      "a\n",
      "b\n",
      "['a', 'b', 'a', 'b', 'a', 'b', 'a', 'b']\n"
     ]
    }
   ],
   "source": [
    "from itertools import count, cycle, repeat\n",
    "\n",
    "repeated = repeat('123', times=4), # note , without times it will be infinite\n",
    "print(list(repeated))\n",
    "\n",
    "for i in count(15,1):\n",
    "    print(i)\n",
    "    if i > 20:\n",
    "        break\n",
    "        \n",
    "string1 = [\"a\",\"b\",\"a\",\"b\",\"a\",\"b\",\"a\",\"b\"]\n",
    "target = []\n",
    "for i in cycle([\"a\",\"b\"]):\n",
    "    print(i)\n",
    "    target.append(i)\n",
    "    if target == string1:\n",
    "        break\n",
    "print(target)"
   ]
  },
  {
   "cell_type": "code",
   "execution_count": 3,
   "id": "d5eb686e",
   "metadata": {},
   "outputs": [
    {
     "name": "stdout",
     "output_type": "stream",
     "text": [
      "[(1, 3), (1, 4), (2, 3), (2, 4)]\n"
     ]
    }
   ],
   "source": [
    "from itertools import product\n",
    "\n",
    "prod = product([1, 2], [3, 4])\n",
    "print(list(prod))"
   ]
  },
  {
   "cell_type": "code",
   "execution_count": 4,
   "id": "ffe5f441",
   "metadata": {},
   "outputs": [
    {
     "name": "stdout",
     "output_type": "stream",
     "text": [
      "[(1, 2, 3), (1, 3, 2), (2, 1, 3), (2, 3, 1), (3, 1, 2), (3, 2, 1)]\n"
     ]
    }
   ],
   "source": [
    "from itertools import permutations\n",
    "per = permutations([1,2,3])\n",
    "print(list(per))"
   ]
  },
  {
   "cell_type": "code",
   "execution_count": 5,
   "id": "eb192c94",
   "metadata": {},
   "outputs": [
    {
     "name": "stdout",
     "output_type": "stream",
     "text": [
      "[(1, 2), (1, 3), (1, 4), (1, 5), (1, 6), (2, 3), (2, 4), (2, 5), (2, 6), (3, 4), (3, 5), (3, 6), (4, 5), (4, 6), (5, 6)]\n"
     ]
    }
   ],
   "source": [
    "from itertools import combinations\n",
    "\n",
    "comb = combinations([1,2,3,4,5,6], r =2)\n",
    "print(list(comb))"
   ]
  },
  {
   "cell_type": "code",
   "execution_count": 6,
   "id": "f5e60111",
   "metadata": {},
   "outputs": [
    {
     "name": "stdout",
     "output_type": "stream",
     "text": [
      "[1, 2, 6, 24, 120, 720, 5040]\n"
     ]
    }
   ],
   "source": [
    "from itertools import accumulate\n",
    "\n",
    "liste = [1,2,3,4,5,6,7]\n",
    "accu = accumulate(liste, func= lambda x,y: x*y) # standart adds previous one to the next one and goes on\n",
    "print(list(accu))"
   ]
  },
  {
   "cell_type": "code",
   "execution_count": 7,
   "id": "3a1345d2",
   "metadata": {},
   "outputs": [],
   "source": [
    "# Enes Çavuş - Python Practices"
   ]
  },
  {
   "cell_type": "code",
   "execution_count": null,
   "id": "3440cdd6",
   "metadata": {},
   "outputs": [],
   "source": []
  }
 ],
 "metadata": {
  "kernelspec": {
   "display_name": "Python 3",
   "language": "python",
   "name": "python3"
  },
  "language_info": {
   "codemirror_mode": {
    "name": "ipython",
    "version": 3
   },
   "file_extension": ".py",
   "mimetype": "text/x-python",
   "name": "python",
   "nbconvert_exporter": "python",
   "pygments_lexer": "ipython3",
   "version": "3.8.10"
  }
 },
 "nbformat": 4,
 "nbformat_minor": 5
}
