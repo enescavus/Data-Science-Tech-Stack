{
 "cells": [
  {
   "cell_type": "markdown",
   "id": "ed6c8382",
   "metadata": {},
   "source": [
    "___**Enes Cavus - Numpy Practices**___"
   ]
  },
  {
   "cell_type": "code",
   "execution_count": 1,
   "id": "540fa789",
   "metadata": {},
   "outputs": [],
   "source": [
    "# import \n",
    "import numpy as np"
   ]
  },
  {
   "cell_type": "markdown",
   "id": "0b17577d",
   "metadata": {},
   "source": [
    "## Basics\n",
    "\n",
    "#### Python Lists vs Numpy Arrays"
   ]
  },
  {
   "cell_type": "code",
   "execution_count": 2,
   "id": "a32e663f",
   "metadata": {},
   "outputs": [
    {
     "name": "stdout",
     "output_type": "stream",
     "text": [
      "[5, 10, 15, 20]\n",
      "<class 'list'>\n"
     ]
    }
   ],
   "source": [
    "listToArray = [5,10,15,20]\n",
    "print(listToArray)\n",
    "print(type(listToArray))"
   ]
  },
  {
   "cell_type": "code",
   "execution_count": 3,
   "id": "1a7919c1",
   "metadata": {},
   "outputs": [
    {
     "name": "stdout",
     "output_type": "stream",
     "text": [
      "[ 5 10 15 20]\n",
      "<class 'numpy.ndarray'>\n"
     ]
    }
   ],
   "source": [
    "print(np.array((listToArray)))\n",
    "print(type(np.array((listToArray))))"
   ]
  },
  {
   "cell_type": "code",
   "execution_count": 4,
   "id": "a2ae4da1",
   "metadata": {},
   "outputs": [
    {
     "name": "stdout",
     "output_type": "stream",
     "text": [
      "[[1, 2, 3], [4, 5, 6], [7, 8, 9]]\n",
      "<class 'list'>\n"
     ]
    }
   ],
   "source": [
    "# 2 - dimensions\n",
    "listtwoDimension = [[1,2,3],[4,5,6],[7,8,9]]\n",
    "print(listtwoDimension)\n",
    "print(type(listtwoDimension))"
   ]
  },
  {
   "cell_type": "code",
   "execution_count": 5,
   "id": "c866da85",
   "metadata": {
    "scrolled": true
   },
   "outputs": [
    {
     "name": "stdout",
     "output_type": "stream",
     "text": [
      "[[1 2 3]\n",
      " [4 5 6]\n",
      " [7 8 9]]\n",
      "<class 'numpy.ndarray'>\n"
     ]
    }
   ],
   "source": [
    "print(np.array((listtwoDimension)))\n",
    "print(type(np.array((listtwoDimension))))"
   ]
  },
  {
   "cell_type": "markdown",
   "id": "dbec73b2",
   "metadata": {},
   "source": [
    "#### Common Numpy Functions"
   ]
  },
  {
   "cell_type": "code",
   "execution_count": 6,
   "id": "4d4d667c",
   "metadata": {},
   "outputs": [
    {
     "name": "stdout",
     "output_type": "stream",
     "text": [
      "random\n",
      "[[0.58345118 0.65871989 0.61664423]\n",
      " [0.96422213 0.44611838 0.79873487]\n",
      " [0.70421655 0.11264112 0.77303623]]\n",
      "rand\n",
      "[-0.80111362  1.74931877  2.8377348 ]\n",
      "randint\n",
      "[[373 174   4]\n",
      " [376 356 312]\n",
      " [ 95  54  58]]\n"
     ]
    }
   ],
   "source": [
    "# np random methods\n",
    "print(\"random\")\n",
    "print(np.random.random((3,3)))\n",
    "print(\"rand\")\n",
    "print(np.random.randn(3))\n",
    "print(\"randint\")\n",
    "print(np.random.randint(1,400, (3,3)))"
   ]
  },
  {
   "cell_type": "code",
   "execution_count": 7,
   "id": "410cfab6",
   "metadata": {},
   "outputs": [
    {
     "data": {
      "text/plain": [
       "array([[1., 0., 0., 0., 0.],\n",
       "       [0., 1., 0., 0., 0.],\n",
       "       [0., 0., 1., 0., 0.],\n",
       "       [0., 0., 0., 1., 0.],\n",
       "       [0., 0., 0., 0., 1.]])"
      ]
     },
     "execution_count": 7,
     "metadata": {},
     "output_type": "execute_result"
    }
   ],
   "source": [
    "# eye\n",
    "np.eye((5))"
   ]
  },
  {
   "cell_type": "code",
   "execution_count": 8,
   "id": "161e1955",
   "metadata": {},
   "outputs": [
    {
     "data": {
      "text/plain": [
       "array([0., 0., 0., 0., 0., 0., 0., 0., 0., 0., 0., 0.])"
      ]
     },
     "execution_count": 8,
     "metadata": {},
     "output_type": "execute_result"
    }
   ],
   "source": [
    "# zeros\n",
    "np.zeros(12)"
   ]
  },
  {
   "cell_type": "code",
   "execution_count": 9,
   "id": "5544f978",
   "metadata": {},
   "outputs": [
    {
     "data": {
      "text/plain": [
       "array([[1., 1., 1., 1., 1., 1.],\n",
       "       [1., 1., 1., 1., 1., 1.]])"
      ]
     },
     "execution_count": 9,
     "metadata": {},
     "output_type": "execute_result"
    }
   ],
   "source": [
    "# ones\n",
    "np.ones((2,6))"
   ]
  },
  {
   "cell_type": "code",
   "execution_count": 10,
   "id": "2aedc477",
   "metadata": {},
   "outputs": [
    {
     "data": {
      "text/plain": [
       "array([ 3,  4,  5,  6,  7,  8,  9, 10])"
      ]
     },
     "execution_count": 10,
     "metadata": {},
     "output_type": "execute_result"
    }
   ],
   "source": [
    "# python range becomes numpy arange funciton \n",
    "np.arange(3,11)"
   ]
  },
  {
   "cell_type": "code",
   "execution_count": 11,
   "id": "2e3742ed",
   "metadata": {},
   "outputs": [
    {
     "data": {
      "text/plain": [
       "array([2, 5, 8])"
      ]
     },
     "execution_count": 11,
     "metadata": {},
     "output_type": "execute_result"
    }
   ],
   "source": [
    "# range with stepping\n",
    "np.arange(2,9,3)"
   ]
  },
  {
   "cell_type": "code",
   "execution_count": 12,
   "id": "70b4163a",
   "metadata": {
    "scrolled": true
   },
   "outputs": [
    {
     "data": {
      "text/plain": [
       "array([  0.        ,   2.04081633,   4.08163265,   6.12244898,\n",
       "         8.16326531,  10.20408163,  12.24489796,  14.28571429,\n",
       "        16.32653061,  18.36734694,  20.40816327,  22.44897959,\n",
       "        24.48979592,  26.53061224,  28.57142857,  30.6122449 ,\n",
       "        32.65306122,  34.69387755,  36.73469388,  38.7755102 ,\n",
       "        40.81632653,  42.85714286,  44.89795918,  46.93877551,\n",
       "        48.97959184,  51.02040816,  53.06122449,  55.10204082,\n",
       "        57.14285714,  59.18367347,  61.2244898 ,  63.26530612,\n",
       "        65.30612245,  67.34693878,  69.3877551 ,  71.42857143,\n",
       "        73.46938776,  75.51020408,  77.55102041,  79.59183673,\n",
       "        81.63265306,  83.67346939,  85.71428571,  87.75510204,\n",
       "        89.79591837,  91.83673469,  93.87755102,  95.91836735,\n",
       "        97.95918367, 100.        ])"
      ]
     },
     "execution_count": 12,
     "metadata": {},
     "output_type": "execute_result"
    }
   ],
   "source": [
    "# linspace - start stop num\n",
    "# equally spaced\n",
    "np.linspace(0,100,50)"
   ]
  },
  {
   "cell_type": "code",
   "execution_count": 13,
   "id": "0849f0a4",
   "metadata": {},
   "outputs": [
    {
     "data": {
      "text/plain": [
       "<matplotlib.collections.PathCollection at 0x1117028b0>"
      ]
     },
     "execution_count": 13,
     "metadata": {},
     "output_type": "execute_result"
    },
    {
     "data": {
      "image/png": "[encoded data removed]",
      "text/plain": [
       "<Figure size 432x288 with 1 Axes>"
      ]
     },
     "metadata": {
      "needs_background": "light"
     },
     "output_type": "display_data"
    }
   ],
   "source": [
    "from matplotlib import pyplot\n",
    "pyplot.scatter(x=range(0,50), y=np.linspace(0,100,50)**2)"
   ]
  },
  {
   "cell_type": "markdown",
   "id": "17d08979",
   "metadata": {},
   "source": [
    "## Array Info and Manipulations"
   ]
  },
  {
   "cell_type": "code",
   "execution_count": 14,
   "id": "ccb3e704",
   "metadata": {},
   "outputs": [
    {
     "data": {
      "text/plain": [
       "array([[ 62, 282, 362, 481, 174, 196, 178, 269, 153,  12, 234, 490],\n",
       "       [ 66, 126,  39, 325, 176, 188, 265,   1, 224, 373, 367, 136]])"
      ]
     },
     "execution_count": 14,
     "metadata": {},
     "output_type": "execute_result"
    }
   ],
   "source": [
    "arr = np.random.randint(1,500, (2,12)) # we got 24 values\n",
    "arr"
   ]
  },
  {
   "cell_type": "code",
   "execution_count": 15,
   "id": "c07a928a",
   "metadata": {},
   "outputs": [
    {
     "name": "stdout",
     "output_type": "stream",
     "text": [
      "ndim\n",
      "2\n",
      "shape\n",
      "(2, 12)\n",
      "size\n",
      "24\n",
      "dtype\n",
      "int64\n"
     ]
    }
   ],
   "source": [
    "print(\"ndim\")\n",
    "print(arr.ndim)\n",
    "print(\"shape\")\n",
    "print(arr.shape)\n",
    "print(\"size\")\n",
    "print(arr.size)\n",
    "print(\"dtype\")\n",
    "print(arr.dtype)"
   ]
  },
  {
   "cell_type": "code",
   "execution_count": 16,
   "id": "f0deeb55",
   "metadata": {},
   "outputs": [
    {
     "name": "stdout",
     "output_type": "stream",
     "text": [
      "max\n",
      "490\n",
      "argmax - index\n",
      "11\n",
      "min\n",
      "1\n",
      "mean\n",
      "215.79166666666666\n"
     ]
    }
   ],
   "source": [
    "print(\"max\")\n",
    "print(arr.max())\n",
    "print(\"argmax - index\")\n",
    "print(arr.argmax())\n",
    "print(\"min\")\n",
    "print(arr.min())\n",
    "print(\"mean\")\n",
    "print(arr.mean())"
   ]
  },
  {
   "cell_type": "code",
   "execution_count": 17,
   "id": "38d80a31",
   "metadata": {},
   "outputs": [
    {
     "data": {
      "text/plain": [
       "array([[ 62, 282, 362, 481],\n",
       "       [174, 196, 178, 269],\n",
       "       [153,  12, 234, 490],\n",
       "       [ 66, 126,  39, 325],\n",
       "       [176, 188, 265,   1],\n",
       "       [224, 373, 367, 136]])"
      ]
     },
     "execution_count": 17,
     "metadata": {},
     "output_type": "execute_result"
    }
   ],
   "source": [
    "arr.reshape(6,4)"
   ]
  },
  {
   "cell_type": "code",
   "execution_count": 18,
   "id": "639858fb",
   "metadata": {},
   "outputs": [
    {
     "data": {
      "text/plain": [
       "array([ 62, 282, 362, 481, 174, 196, 178, 269, 153,  12, 234, 490,  66,\n",
       "       126,  39, 325, 176, 188, 265,   1, 224, 373, 367, 136])"
      ]
     },
     "execution_count": 18,
     "metadata": {},
     "output_type": "execute_result"
    }
   ],
   "source": [
    "arr.reshape(24)"
   ]
  },
  {
   "cell_type": "code",
   "execution_count": 19,
   "id": "09e5bd66",
   "metadata": {},
   "outputs": [
    {
     "data": {
      "text/plain": [
       "array([[ 62, 282, 362],\n",
       "       [481, 174, 196],\n",
       "       [178, 269, 153],\n",
       "       [ 12, 234, 490],\n",
       "       [ 66, 126,  39],\n",
       "       [325, 176, 188],\n",
       "       [265,   1, 224],\n",
       "       [373, 367, 136]])"
      ]
     },
     "execution_count": 19,
     "metadata": {},
     "output_type": "execute_result"
    }
   ],
   "source": [
    "arr.reshape(8,3)"
   ]
  },
  {
   "cell_type": "code",
   "execution_count": 20,
   "id": "5eb06e34",
   "metadata": {},
   "outputs": [
    {
     "data": {
      "text/plain": [
       "array([[ 0,  1,  2,  3],\n",
       "       [ 4,  5,  6,  7],\n",
       "       [ 8,  9, 10, 11]])"
      ]
     },
     "execution_count": 20,
     "metadata": {},
     "output_type": "execute_result"
    }
   ],
   "source": [
    "np.array(np.arange(0,12)).reshape(3,4)"
   ]
  },
  {
   "cell_type": "markdown",
   "id": "a971f4d9",
   "metadata": {},
   "source": [
    "#### slicing operations"
   ]
  },
  {
   "cell_type": "code",
   "execution_count": 21,
   "id": "38d8fc85",
   "metadata": {},
   "outputs": [],
   "source": [
    "slicing_arr = np.arange(10,100,5)"
   ]
  },
  {
   "cell_type": "code",
   "execution_count": 22,
   "id": "0d1601f8",
   "metadata": {},
   "outputs": [
    {
     "data": {
      "text/plain": [
       "array([30, 35, 40, 45, 50, 55, 60])"
      ]
     },
     "execution_count": 22,
     "metadata": {},
     "output_type": "execute_result"
    }
   ],
   "source": [
    "slicing_arr[4:11]"
   ]
  },
  {
   "cell_type": "code",
   "execution_count": 23,
   "id": "7b23b120",
   "metadata": {},
   "outputs": [],
   "source": [
    "slicing_arr[4:11] = -1"
   ]
  },
  {
   "cell_type": "code",
   "execution_count": 24,
   "id": "a7899543",
   "metadata": {},
   "outputs": [
    {
     "data": {
      "text/plain": [
       "array([10, 15, 20, 25, -1, -1, -1, -1, -1, -1, -1, 65, 70, 75, 80, 85, 90,\n",
       "       95])"
      ]
     },
     "execution_count": 24,
     "metadata": {},
     "output_type": "execute_result"
    }
   ],
   "source": [
    "slicing_arr"
   ]
  },
  {
   "cell_type": "code",
   "execution_count": 25,
   "id": "1c36772a",
   "metadata": {},
   "outputs": [
    {
     "data": {
      "text/plain": [
       "array([ 30,  45,  60,  75,  -3,  -3,  -3,  -3,  -3,  -3,  -3, 195, 210,\n",
       "       225, 240, 255, 270, 285])"
      ]
     },
     "execution_count": 25,
     "metadata": {},
     "output_type": "execute_result"
    }
   ],
   "source": [
    "slicing_arr * 3"
   ]
  },
  {
   "cell_type": "code",
   "execution_count": 26,
   "id": "2d28a4e9",
   "metadata": {},
   "outputs": [
    {
     "data": {
      "text/plain": [
       "array([ 5,  7, 10, 12, -1, -1, -1, -1, -1, -1, -1, 32, 35, 37, 40, 42, 45,\n",
       "       47])"
      ]
     },
     "execution_count": 26,
     "metadata": {},
     "output_type": "execute_result"
    }
   ],
   "source": [
    "slicing_arr // 2"
   ]
  },
  {
   "cell_type": "code",
   "execution_count": 27,
   "id": "7cdbf1a4",
   "metadata": {},
   "outputs": [
    {
     "data": {
      "text/plain": [
       "array([ 22,  27,  32,  37,  11,  11,  11,  11,  11,  11,  11,  77,  82,\n",
       "        87,  92,  97, 102, 107])"
      ]
     },
     "execution_count": 27,
     "metadata": {},
     "output_type": "execute_result"
    }
   ],
   "source": [
    "slicing_arr + 12"
   ]
  },
  {
   "cell_type": "code",
   "execution_count": 28,
   "id": "4a57ea19",
   "metadata": {},
   "outputs": [
    {
     "data": {
      "text/plain": [
       "array([0, 0, 0, 0, 0, 0, 0, 0, 0, 0, 0, 0, 0, 0, 0, 0, 0, 0])"
      ]
     },
     "execution_count": 28,
     "metadata": {},
     "output_type": "execute_result"
    }
   ],
   "source": [
    "slicing_arr[:] = 0\n",
    "slicing_arr"
   ]
  },
  {
   "cell_type": "markdown",
   "id": "f6f28200",
   "metadata": {},
   "source": [
    "#### sample - copy function usage and why"
   ]
  },
  {
   "cell_type": "code",
   "execution_count": 29,
   "id": "7147d791",
   "metadata": {},
   "outputs": [],
   "source": [
    "arr1 = np.arange(0,15)\n",
    "arr2 = arr1[3:7]"
   ]
  },
  {
   "cell_type": "code",
   "execution_count": 30,
   "id": "af5863c4",
   "metadata": {},
   "outputs": [
    {
     "name": "stdout",
     "output_type": "stream",
     "text": [
      "[ 0  1  2  3  4  5  6  7  8  9 10 11 12 13 14]\n",
      "[3 4 5 6]\n"
     ]
    }
   ],
   "source": [
    "print(arr1)\n",
    "print(arr2)"
   ]
  },
  {
   "cell_type": "code",
   "execution_count": 31,
   "id": "e1ab9e76",
   "metadata": {},
   "outputs": [
    {
     "data": {
      "text/plain": [
       "array([   0,    1,    2, -100, -100, -100, -100,    7,    8,    9,   10,\n",
       "         11,   12,   13,   14])"
      ]
     },
     "execution_count": 31,
     "metadata": {},
     "output_type": "execute_result"
    }
   ],
   "source": [
    "# changing arr2 \n",
    "arr2[:] = -100\n",
    "arr1 # has changed"
   ]
  },
  {
   "cell_type": "code",
   "execution_count": 32,
   "id": "44eda407",
   "metadata": {},
   "outputs": [
    {
     "data": {
      "text/plain": [
       "array([   0,    1,    2, -100, -100, -100, -100,    7,    8,    9,   10,\n",
       "         11,   12,   13,   14])"
      ]
     },
     "execution_count": 32,
     "metadata": {},
     "output_type": "execute_result"
    }
   ],
   "source": [
    "# use copy() function to prevent this\n",
    "arr3 = arr1[3:7].copy()\n",
    "arr3[:] = 1000\n",
    "arr1 # did not change"
   ]
  },
  {
   "cell_type": "markdown",
   "id": "02a5cee6",
   "metadata": {},
   "source": [
    "#### multi-dimension slicing"
   ]
  },
  {
   "cell_type": "code",
   "execution_count": 33,
   "id": "c73de4bf",
   "metadata": {},
   "outputs": [
    {
     "data": {
      "text/plain": [
       "array([[[126,  33, 279, 336, 126],\n",
       "        [441, 483, 128,  34, 292]],\n",
       "\n",
       "       [[431, 325, 383, 211, 433],\n",
       "        [248, 429, 480, 274, 305]],\n",
       "\n",
       "       [[307, 279, 400, 333, 214],\n",
       "        [ 54, 174, 129, 118, 213]]])"
      ]
     },
     "execution_count": 33,
     "metadata": {},
     "output_type": "execute_result"
    }
   ],
   "source": [
    "ndim = np.random.randint(0,500,30).reshape(3,2,5)\n",
    "ndim"
   ]
  },
  {
   "cell_type": "code",
   "execution_count": 34,
   "id": "6752a191",
   "metadata": {},
   "outputs": [
    {
     "data": {
      "text/plain": [
       "213"
      ]
     },
     "execution_count": 34,
     "metadata": {},
     "output_type": "execute_result"
    }
   ],
   "source": [
    "ndim[2][1][4]"
   ]
  },
  {
   "cell_type": "code",
   "execution_count": 35,
   "id": "1d70c2d0",
   "metadata": {},
   "outputs": [
    {
     "data": {
      "text/plain": [
       "213"
      ]
     },
     "execution_count": 35,
     "metadata": {},
     "output_type": "execute_result"
    }
   ],
   "source": [
    "ndim[2,1,4]"
   ]
  },
  {
   "cell_type": "code",
   "execution_count": 36,
   "id": "34b019c7",
   "metadata": {},
   "outputs": [
    {
     "data": {
      "text/plain": [
       "array([174, 129, 118])"
      ]
     },
     "execution_count": 36,
     "metadata": {},
     "output_type": "execute_result"
    }
   ],
   "source": [
    "ndim[2,1,1:4]"
   ]
  },
  {
   "cell_type": "code",
   "execution_count": 37,
   "id": "c22cc71f",
   "metadata": {},
   "outputs": [
    {
     "data": {
      "text/plain": [
       "array([[279, 400, 333],\n",
       "       [174, 129, 118]])"
      ]
     },
     "execution_count": 37,
     "metadata": {},
     "output_type": "execute_result"
    }
   ],
   "source": [
    "ndim[2,:,1:4]"
   ]
  },
  {
   "cell_type": "code",
   "execution_count": 38,
   "id": "138774ba",
   "metadata": {},
   "outputs": [
    {
     "name": "stdout",
     "output_type": "stream",
     "text": [
      "[[126  33 279 336 126]\n",
      " [441 483 128  34 292]]\n",
      "[[431 325 383 211 433]\n",
      " [248 429 480 274 305]]\n",
      "[[307 279 400 333 214]\n",
      " [ 54 174 129 118 213]]\n"
     ]
    }
   ],
   "source": [
    "for dimension in range(3):\n",
    "    print(ndim[dimension,:,:])"
   ]
  },
  {
   "cell_type": "code",
   "execution_count": 39,
   "id": "218851a6",
   "metadata": {},
   "outputs": [
    {
     "data": {
      "text/plain": [
       "array([[[431, 325, 383, 211, 433],\n",
       "        [248, 429, 480, 274, 305]],\n",
       "\n",
       "       [[307, 279, 400, 333, 214],\n",
       "        [ 54, 174, 129, 118, 213]]])"
      ]
     },
     "execution_count": 39,
     "metadata": {},
     "output_type": "execute_result"
    }
   ],
   "source": [
    "ndim[[1,2]]"
   ]
  },
  {
   "cell_type": "code",
   "execution_count": 40,
   "id": "857253cd",
   "metadata": {},
   "outputs": [
    {
     "data": {
      "text/plain": [
       "array([[[431, 325, 383, 211, 433],\n",
       "        [248, 429, 480, 274, 305]],\n",
       "\n",
       "       [[307, 279, 400, 333, 214],\n",
       "        [ 54, 174, 129, 118, 213]]])"
      ]
     },
     "execution_count": 40,
     "metadata": {},
     "output_type": "execute_result"
    }
   ],
   "source": [
    "ndim[[1,2]]"
   ]
  },
  {
   "cell_type": "markdown",
   "id": "1257f079",
   "metadata": {},
   "source": [
    "## Math Operations"
   ]
  },
  {
   "cell_type": "code",
   "execution_count": 41,
   "id": "181c03ed",
   "metadata": {},
   "outputs": [
    {
     "data": {
      "text/plain": [
       "array([ 1,  2,  3,  4,  5,  6,  7,  8,  9, 10, 11, 12, 13, 14, 15, 16, 17,\n",
       "       18, 19])"
      ]
     },
     "execution_count": 41,
     "metadata": {},
     "output_type": "execute_result"
    }
   ],
   "source": [
    "numbers = np.arange(1,20)\n",
    "numbers"
   ]
  },
  {
   "cell_type": "code",
   "execution_count": 42,
   "id": "f0ea51f4",
   "metadata": {},
   "outputs": [
    {
     "data": {
      "text/plain": [
       "array([1, 0, 1, 0, 1, 0, 1, 0, 1, 0, 1, 0, 1, 0, 1, 0, 1, 0, 1])"
      ]
     },
     "execution_count": 42,
     "metadata": {},
     "output_type": "execute_result"
    }
   ],
   "source": [
    "even = numbers % 2\n",
    "even"
   ]
  },
  {
   "cell_type": "code",
   "execution_count": 43,
   "id": "fb46835a",
   "metadata": {},
   "outputs": [
    {
     "data": {
      "text/plain": [
       "array([ 2,  2,  4,  4,  6,  6,  8,  8, 10, 10, 12, 12, 14, 14, 16, 16, 18,\n",
       "       18, 20])"
      ]
     },
     "execution_count": 43,
     "metadata": {},
     "output_type": "execute_result"
    }
   ],
   "source": [
    "all_even = numbers + even\n",
    "all_even"
   ]
  },
  {
   "cell_type": "code",
   "execution_count": 44,
   "id": "a7a02c59",
   "metadata": {},
   "outputs": [
    {
     "data": {
      "text/plain": [
       "array([ 0,  2,  2,  4,  4,  6,  6,  8,  8, 10, 10, 12, 12, 14, 14, 16, 16,\n",
       "       18, 18])"
      ]
     },
     "execution_count": 44,
     "metadata": {},
     "output_type": "execute_result"
    }
   ],
   "source": [
    "all_even_again = numbers - even\n",
    "all_even_again"
   ]
  },
  {
   "cell_type": "code",
   "execution_count": 45,
   "id": "4ad3af38",
   "metadata": {},
   "outputs": [
    {
     "data": {
      "text/plain": [
       "array([False, False, False, False, False, False, False, False, False,\n",
       "       False, False, False, False, False, False,  True,  True,  True,\n",
       "        True])"
      ]
     },
     "execution_count": 45,
     "metadata": {},
     "output_type": "execute_result"
    }
   ],
   "source": [
    "greater_than_15 = numbers > 15\n",
    "greater_than_15"
   ]
  },
  {
   "cell_type": "code",
   "execution_count": 46,
   "id": "167c5736",
   "metadata": {},
   "outputs": [
    {
     "data": {
      "text/plain": [
       "array([16, 17, 18, 19])"
      ]
     },
     "execution_count": 46,
     "metadata": {},
     "output_type": "execute_result"
    }
   ],
   "source": [
    "numbers[greater_than_15]"
   ]
  },
  {
   "cell_type": "code",
   "execution_count": 47,
   "id": "3ec38b51",
   "metadata": {},
   "outputs": [
    {
     "data": {
      "text/plain": [
       "1"
      ]
     },
     "execution_count": 47,
     "metadata": {},
     "output_type": "execute_result"
    }
   ],
   "source": [
    "np.min(numbers)"
   ]
  },
  {
   "cell_type": "code",
   "execution_count": 48,
   "id": "d748fbbf",
   "metadata": {},
   "outputs": [
    {
     "data": {
      "text/plain": [
       "10.0"
      ]
     },
     "execution_count": 48,
     "metadata": {},
     "output_type": "execute_result"
    }
   ],
   "source": [
    "np.mean(numbers)"
   ]
  },
  {
   "cell_type": "code",
   "execution_count": 49,
   "id": "04eac4e1",
   "metadata": {},
   "outputs": [
    {
     "data": {
      "text/plain": [
       "190"
      ]
     },
     "execution_count": 49,
     "metadata": {},
     "output_type": "execute_result"
    }
   ],
   "source": [
    "np.sum(numbers)"
   ]
  },
  {
   "cell_type": "markdown",
   "id": "faa7329b",
   "metadata": {},
   "source": [
    "___**Enes Cavus - Numpy Practices**___"
   ]
  },
  {
   "cell_type": "code",
   "execution_count": null,
   "id": "74b8e3d4",
   "metadata": {},
   "outputs": [],
   "source": []
  }
 ],
 "metadata": {
  "kernelspec": {
   "display_name": "Python 3 (ipykernel)",
   "language": "python",
   "name": "python3"
  },
  "language_info": {
   "codemirror_mode": {
    "name": "ipython",
    "version": 3
   },
   "file_extension": ".py",
   "mimetype": "text/x-python",
   "name": "python",
   "nbconvert_exporter": "python",
   "pygments_lexer": "ipython3",
   "version": "3.8.1"
  }
 },
 "nbformat": 4,
 "nbformat_minor": 5
}
