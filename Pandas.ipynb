{
 "cells": [
  {
   "cell_type": "markdown",
   "id": "96be797a",
   "metadata": {},
   "source": [
    "___**Enes Cavus - Pandas Practices - Data Science**___"
   ]
  },
  {
   "cell_type": "code",
   "execution_count": 1,
   "id": "bae74030",
   "metadata": {},
   "outputs": [],
   "source": [
    "# imports\n",
    "import pandas as pd\n",
    "import numpy as np"
   ]
  },
  {
   "cell_type": "markdown",
   "id": "36ecd445",
   "metadata": {},
   "source": [
    "## Pandas Series - Basic Ones"
   ]
  },
  {
   "cell_type": "code",
   "execution_count": 2,
   "id": "3f7034b7",
   "metadata": {},
   "outputs": [
    {
     "data": {
      "text/plain": [
       "pandas.core.series.Series"
      ]
     },
     "execution_count": 2,
     "metadata": {},
     "output_type": "execute_result"
    }
   ],
   "source": [
    "guitarsDict = {\"Acoustic\" : 1000,\n",
    "            \"Classic\" : 500,\n",
    "            \"Electric\" : 2500}\n",
    "# guitar types as indexes\n",
    "# guitar prices as datas\n",
    "type(pd.Series(guitarsDict))"
   ]
  },
  {
   "cell_type": "code",
   "execution_count": 3,
   "id": "74873c61",
   "metadata": {},
   "outputs": [
    {
     "data": {
      "text/plain": [
       "Acoustic    1000\n",
       "Classic      500\n",
       "Electric    2500\n",
       "dtype: int64"
      ]
     },
     "execution_count": 3,
     "metadata": {},
     "output_type": "execute_result"
    }
   ],
   "source": [
    "pd.Series(guitarsDict)"
   ]
  },
  {
   "cell_type": "code",
   "execution_count": 4,
   "id": "51114633",
   "metadata": {},
   "outputs": [
    {
     "data": {
      "text/plain": [
       "pandas.core.series.Series"
      ]
     },
     "execution_count": 4,
     "metadata": {},
     "output_type": "execute_result"
    }
   ],
   "source": [
    "guitarTypes = [\"Acoustic\",\"Classic\",\"Electric\"]\n",
    "guitarPrices = [1000,500,2500]\n",
    "type(pd.Series(index=guitarTypes,data=guitarPrices))"
   ]
  },
  {
   "cell_type": "code",
   "execution_count": 5,
   "id": "78c49eee",
   "metadata": {},
   "outputs": [
    {
     "data": {
      "text/plain": [
       "Acoustic    1000\n",
       "Classic      500\n",
       "Electric    2500\n",
       "dtype: int64"
      ]
     },
     "execution_count": 5,
     "metadata": {},
     "output_type": "execute_result"
    }
   ],
   "source": [
    "pd.Series(index=guitarTypes, data=guitarPrices)"
   ]
  },
  {
   "cell_type": "code",
   "execution_count": 6,
   "id": "bd0efa90",
   "metadata": {},
   "outputs": [
    {
     "data": {
      "text/plain": [
       "Acoustic    1000\n",
       "Classic      500\n",
       "Electric    2500\n",
       "dtype: int64"
      ]
     },
     "execution_count": 6,
     "metadata": {},
     "output_type": "execute_result"
    }
   ],
   "source": [
    "# with numpy arrays - numerical Python\n",
    "guitarNpPrices = np.array([1000,500,2500])\n",
    "pd.Series(index=guitarTypes, data=guitarNpPrices)"
   ]
  },
  {
   "cell_type": "code",
   "execution_count": 7,
   "id": "97148590",
   "metadata": {},
   "outputs": [
    {
     "data": {
      "text/plain": [
       "Acoustic      walnut\n",
       "Classic     rosewood\n",
       "Electric       ebony\n",
       "dtype: object"
      ]
     },
     "execution_count": 7,
     "metadata": {},
     "output_type": "execute_result"
    }
   ],
   "source": [
    "# strings as data \n",
    "guitarWoodTypes = [\"walnut\", \"rosewood\", \"ebony\"]\n",
    "pd.Series(data=guitarWoodTypes, index=guitarTypes)"
   ]
  },
  {
   "cell_type": "markdown",
   "id": "1722ce49",
   "metadata": {},
   "source": [
    "## Pandas DATAFRAMEs"
   ]
  },
  {
   "cell_type": "code",
   "execution_count": 8,
   "id": "90fb555b",
   "metadata": {},
   "outputs": [],
   "source": [
    "# a frame which has multiple series(columns) together\n",
    "data = np.random.randint(0,100,9).reshape(3,3)"
   ]
  },
  {
   "cell_type": "code",
   "execution_count": 9,
   "id": "362765fe",
   "metadata": {},
   "outputs": [
    {
     "data": {
      "text/html": [
       "<div>\n",
       "<style scoped>\n",
       "    .dataframe tbody tr th:only-of-type {\n",
       "        vertical-align: middle;\n",
       "    }\n",
       "\n",
       "    .dataframe tbody tr th {\n",
       "        vertical-align: top;\n",
       "    }\n",
       "\n",
       "    .dataframe thead th {\n",
       "        text-align: right;\n",
       "    }\n",
       "</style>\n",
       "<table border=\"1\" class=\"dataframe\">\n",
       "  <thead>\n",
       "    <tr style=\"text-align: right;\">\n",
       "      <th></th>\n",
       "      <th>0</th>\n",
       "      <th>1</th>\n",
       "      <th>2</th>\n",
       "    </tr>\n",
       "  </thead>\n",
       "  <tbody>\n",
       "    <tr>\n",
       "      <th>0</th>\n",
       "      <td>17</td>\n",
       "      <td>66</td>\n",
       "      <td>23</td>\n",
       "    </tr>\n",
       "    <tr>\n",
       "      <th>1</th>\n",
       "      <td>40</td>\n",
       "      <td>16</td>\n",
       "      <td>87</td>\n",
       "    </tr>\n",
       "    <tr>\n",
       "      <th>2</th>\n",
       "      <td>53</td>\n",
       "      <td>76</td>\n",
       "      <td>56</td>\n",
       "    </tr>\n",
       "  </tbody>\n",
       "</table>\n",
       "</div>"
      ],
      "text/plain": [
       "    0   1   2\n",
       "0  17  66  23\n",
       "1  40  16  87\n",
       "2  53  76  56"
      ]
     },
     "execution_count": 9,
     "metadata": {},
     "output_type": "execute_result"
    }
   ],
   "source": [
    "# df stands for dataframe - most used\n",
    "df = pd.DataFrame(data)\n",
    "df"
   ]
  },
  {
   "cell_type": "code",
   "execution_count": 10,
   "id": "e4285877",
   "metadata": {},
   "outputs": [
    {
     "data": {
      "text/html": [
       "<div>\n",
       "<style scoped>\n",
       "    .dataframe tbody tr th:only-of-type {\n",
       "        vertical-align: middle;\n",
       "    }\n",
       "\n",
       "    .dataframe tbody tr th {\n",
       "        vertical-align: top;\n",
       "    }\n",
       "\n",
       "    .dataframe thead th {\n",
       "        text-align: right;\n",
       "    }\n",
       "</style>\n",
       "<table border=\"1\" class=\"dataframe\">\n",
       "  <thead>\n",
       "    <tr style=\"text-align: right;\">\n",
       "      <th></th>\n",
       "      <th>Gold</th>\n",
       "      <th>Silver</th>\n",
       "      <th>Bronze</th>\n",
       "    </tr>\n",
       "  </thead>\n",
       "  <tbody>\n",
       "    <tr>\n",
       "      <th>Europe</th>\n",
       "      <td>17</td>\n",
       "      <td>66</td>\n",
       "      <td>23</td>\n",
       "    </tr>\n",
       "    <tr>\n",
       "      <th>Asia</th>\n",
       "      <td>40</td>\n",
       "      <td>16</td>\n",
       "      <td>87</td>\n",
       "    </tr>\n",
       "    <tr>\n",
       "      <th>USA</th>\n",
       "      <td>53</td>\n",
       "      <td>76</td>\n",
       "      <td>56</td>\n",
       "    </tr>\n",
       "  </tbody>\n",
       "</table>\n",
       "</div>"
      ],
      "text/plain": [
       "        Gold  Silver  Bronze\n",
       "Europe    17      66      23\n",
       "Asia      40      16      87\n",
       "USA       53      76      56"
      ]
     },
     "execution_count": 10,
     "metadata": {},
     "output_type": "execute_result"
    }
   ],
   "source": [
    "df = pd.DataFrame(data=data, columns=[\"Gold\", \"Silver\", \"Bronze\"],\n",
    "                 index=[\"Europe\",\"Asia\",\"USA\"])\n",
    "df"
   ]
  },
  {
   "cell_type": "code",
   "execution_count": 11,
   "id": "7bc789ae",
   "metadata": {},
   "outputs": [
    {
     "data": {
      "text/plain": [
       "Europe    17\n",
       "Asia      40\n",
       "USA       53\n",
       "Name: Gold, dtype: int64"
      ]
     },
     "execution_count": 11,
     "metadata": {},
     "output_type": "execute_result"
    }
   ],
   "source": [
    "# Gold medals as pandas series\n",
    "df[\"Gold\"]"
   ]
  },
  {
   "cell_type": "code",
   "execution_count": 12,
   "id": "9b691042",
   "metadata": {},
   "outputs": [
    {
     "data": {
      "text/html": [
       "<div>\n",
       "<style scoped>\n",
       "    .dataframe tbody tr th:only-of-type {\n",
       "        vertical-align: middle;\n",
       "    }\n",
       "\n",
       "    .dataframe tbody tr th {\n",
       "        vertical-align: top;\n",
       "    }\n",
       "\n",
       "    .dataframe thead th {\n",
       "        text-align: right;\n",
       "    }\n",
       "</style>\n",
       "<table border=\"1\" class=\"dataframe\">\n",
       "  <thead>\n",
       "    <tr style=\"text-align: right;\">\n",
       "      <th></th>\n",
       "      <th>Gold</th>\n",
       "      <th>Silver</th>\n",
       "    </tr>\n",
       "  </thead>\n",
       "  <tbody>\n",
       "    <tr>\n",
       "      <th>Europe</th>\n",
       "      <td>17</td>\n",
       "      <td>66</td>\n",
       "    </tr>\n",
       "    <tr>\n",
       "      <th>Asia</th>\n",
       "      <td>40</td>\n",
       "      <td>16</td>\n",
       "    </tr>\n",
       "    <tr>\n",
       "      <th>USA</th>\n",
       "      <td>53</td>\n",
       "      <td>76</td>\n",
       "    </tr>\n",
       "  </tbody>\n",
       "</table>\n",
       "</div>"
      ],
      "text/plain": [
       "        Gold  Silver\n",
       "Europe    17      66\n",
       "Asia      40      16\n",
       "USA       53      76"
      ]
     },
     "execution_count": 12,
     "metadata": {},
     "output_type": "execute_result"
    }
   ],
   "source": [
    "# gold and silver medals as pandas DataFframe\n",
    "df[[\"Gold\",\"Silver\"]]"
   ]
  },
  {
   "cell_type": "markdown",
   "id": "73b5c0b1",
   "metadata": {},
   "source": [
    "### loc & iloc"
   ]
  },
  {
   "cell_type": "code",
   "execution_count": 13,
   "id": "c9b31456",
   "metadata": {},
   "outputs": [
    {
     "data": {
      "text/html": [
       "<div>\n",
       "<style scoped>\n",
       "    .dataframe tbody tr th:only-of-type {\n",
       "        vertical-align: middle;\n",
       "    }\n",
       "\n",
       "    .dataframe tbody tr th {\n",
       "        vertical-align: top;\n",
       "    }\n",
       "\n",
       "    .dataframe thead th {\n",
       "        text-align: right;\n",
       "    }\n",
       "</style>\n",
       "<table border=\"1\" class=\"dataframe\">\n",
       "  <thead>\n",
       "    <tr style=\"text-align: right;\">\n",
       "      <th></th>\n",
       "      <th>Gold</th>\n",
       "      <th>Silver</th>\n",
       "      <th>Bronze</th>\n",
       "    </tr>\n",
       "  </thead>\n",
       "  <tbody>\n",
       "    <tr>\n",
       "      <th>Asia</th>\n",
       "      <td>40</td>\n",
       "      <td>16</td>\n",
       "      <td>87</td>\n",
       "    </tr>\n",
       "    <tr>\n",
       "      <th>USA</th>\n",
       "      <td>53</td>\n",
       "      <td>76</td>\n",
       "      <td>56</td>\n",
       "    </tr>\n",
       "  </tbody>\n",
       "</table>\n",
       "</div>"
      ],
      "text/plain": [
       "      Gold  Silver  Bronze\n",
       "Asia    40      16      87\n",
       "USA     53      76      56"
      ]
     },
     "execution_count": 13,
     "metadata": {},
     "output_type": "execute_result"
    }
   ],
   "source": [
    "# iloc uses indexes\n",
    "df.iloc[1:3]"
   ]
  },
  {
   "cell_type": "code",
   "execution_count": 14,
   "id": "d90547ed",
   "metadata": {},
   "outputs": [
    {
     "data": {
      "text/plain": [
       "Asia    87\n",
       "USA     56\n",
       "Name: Bronze, dtype: int64"
      ]
     },
     "execution_count": 14,
     "metadata": {},
     "output_type": "execute_result"
    }
   ],
   "source": [
    "# get Bronze medals for the 1:3 index range\n",
    "# make sure to use ONLY index numbers\n",
    "df.iloc[1:3, 2] "
   ]
  },
  {
   "cell_type": "code",
   "execution_count": 15,
   "id": "6f95078d",
   "metadata": {},
   "outputs": [
    {
     "data": {
      "text/plain": [
       "Gold      53\n",
       "Silver    76\n",
       "Bronze    56\n",
       "Name: USA, dtype: int64"
      ]
     },
     "execution_count": 15,
     "metadata": {},
     "output_type": "execute_result"
    }
   ],
   "source": [
    "# loc usage\n",
    "df.loc[\"USA\"]"
   ]
  },
  {
   "cell_type": "code",
   "execution_count": 16,
   "id": "d7072718",
   "metadata": {},
   "outputs": [
    {
     "data": {
      "text/plain": [
       "Gold      53\n",
       "Silver    76\n",
       "Name: USA, dtype: int64"
      ]
     },
     "execution_count": 16,
     "metadata": {},
     "output_type": "execute_result"
    }
   ],
   "source": [
    "df.loc[\"USA\", [\"Gold\",\"Silver\"]]"
   ]
  },
  {
   "cell_type": "code",
   "execution_count": null,
   "id": "21bfab56",
   "metadata": {},
   "outputs": [],
   "source": []
  },
  {
   "cell_type": "code",
   "execution_count": null,
   "id": "c68846bd",
   "metadata": {},
   "outputs": [],
   "source": []
  },
  {
   "cell_type": "code",
   "execution_count": null,
   "id": "63ed3039",
   "metadata": {},
   "outputs": [],
   "source": []
  },
  {
   "cell_type": "markdown",
   "id": "13455a0f",
   "metadata": {},
   "source": [
    "___**Enes Cavus - Pandas Practices - Data Science**___"
   ]
  },
  {
   "cell_type": "code",
   "execution_count": null,
   "id": "9538e763",
   "metadata": {},
   "outputs": [],
   "source": []
  }
 ],
 "metadata": {
  "kernelspec": {
   "display_name": "Python 3 (ipykernel)",
   "language": "python",
   "name": "python3"
  },
  "language_info": {
   "codemirror_mode": {
    "name": "ipython",
    "version": 3
   },
   "file_extension": ".py",
   "mimetype": "text/x-python",
   "name": "python",
   "nbconvert_exporter": "python",
   "pygments_lexer": "ipython3",
   "version": "3.8.1"
  }
 },
 "nbformat": 4,
 "nbformat_minor": 5
}
